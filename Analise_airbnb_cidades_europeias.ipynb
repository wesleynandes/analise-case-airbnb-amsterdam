{
  "nbformat": 4,
  "nbformat_minor": 0,
  "metadata": {
    "colab": {
      "provenance": [],
      "collapsed_sections": [
        "BYEQz24KPKYi",
        "ELp0xHUwTO0T",
        "qs_QuaeNfotg",
        "sNTNf77WrJMO",
        "j6krOtKKvkR-",
        "yIoIsnpnEexG",
        "U7I2i3vYeV7L"
      ],
      "authorship_tag": "ABX9TyMCpES6sRdZQlmldBzd3vmR",
      "include_colab_link": true
    },
    "kernelspec": {
      "name": "python3",
      "display_name": "Python 3"
    },
    "language_info": {
      "name": "python"
    }
  },
  "cells": [
    {
      "cell_type": "markdown",
      "metadata": {
        "id": "view-in-github",
        "colab_type": "text"
      },
      "source": [
        "<a href=\"https://colab.research.google.com/github/wesleynandes/analise-case-airbnb-amsterdam/blob/main/Analise_airbnb_cidades_europeias.ipynb\" target=\"_parent\"><img src=\"https://colab.research.google.com/assets/colab-badge.svg\" alt=\"Open In Colab\"/></a>"
      ]
    },
    {
      "cell_type": "markdown",
      "source": [
        "## **Projeto Case Airbnb**\n",
        "Escola: SoulCode Academy\n",
        "\n",
        "Curso: Bootcamp Analista de Dados - Martech - AD2\n",
        "\n",
        "**Aluno: Wesley Luiz**\n",
        "\n",
        "Professor: Franciane Rodrigues"
      ],
      "metadata": {
        "id": "8AvV2uVhNLpj"
      }
    },
    {
      "cell_type": "markdown",
      "source": [
        "#**Pergunta de negócio**: Faça uma análise exploratória de dados com a base de dados do Airbnb e indique possíveis oportunidades e/ou ameaças para o empreendimento.\n",
        "\n",
        "\n",
        "---\n",
        "\n"
      ],
      "metadata": {
        "id": "BYEQz24KPKYi"
      }
    },
    {
      "cell_type": "markdown",
      "source": [
        "\n",
        ">### **Nível - Tratamento e Análise**\n",
        "\n",
        "* Verificar todos os passos da estratégia de análise geral de análise de dados;\n",
        "* Executar o que for necessário;\n",
        "* Todos os passos devem ser comentados;\n",
        "* Realizar no mínimo 3 análises apenas numéricas;\n",
        "* Realizar plotagens para no mínimo 3 análises;\n",
        "* Chegar a uma conclusão de sua análise;"
      ],
      "metadata": {
        "id": "qpNlnJkZRzwy"
      }
    },
    {
      "cell_type": "markdown",
      "source": [
        ">### **Nivel - Infra**\n",
        "\n",
        "* O Dataset deve ser salvo em ambiente local  (Google Drive) - (bruto e tratado)\n",
        "* O Dataset deve ser salvo em ambiente cloud (Cloud Storage) - (bruto e tratado)\n",
        "* O Arquivo original e tratado deve ser salvo em MongoDB Atlas em coleções diferentes"
      ],
      "metadata": {
        "id": "Eb0xqjjFZ0ya"
      }
    },
    {
      "cell_type": "markdown",
      "source": [
        "# Base de Dados\n",
        "Este conjunto de dados fornece uma visão abrangente dos preços do Airbnb em algumas das cidades europeias mais populares. Cada listagem é avaliada quanto a várias características, como tipos de quartos, classificações de limpeza e satisfação, número de quartos, distância do centro da cidade e muito mais, para obter uma compreensão detalhada dos preços do Airbnb tanto durante a semana quanto nos fins de semana.\n",
        "\n",
        "Fonte: https://www.kaggle.com/datasets/thedevastator/airbnb-prices-in-european-cities"
      ],
      "metadata": {
        "id": "ELp0xHUwTO0T"
      }
    },
    {
      "cell_type": "markdown",
      "source": [
        "## **Dicionário de dados**"
      ],
      "metadata": {
        "id": "-KiI5to9Uj6i"
      }
    },
    {
      "cell_type": "markdown",
      "source": [
        "* **realSum:** O preço total do anúncio do Airbnb.\n",
        "* **room_type:** O tipo de quarto oferecido (por exemplo, privado, compartilhado, etc.).\n",
        "* **room_shared:** Se o quarto é compartilhado ou não.  \n",
        "* **room_private**: Se o quarto é privado ou não.\n",
        "* **person_capacity**: O número máximo de pessoas que podem ficar no quarto.\n",
        "* **host_is_superhost**: Se o host é um superhost ou não. (Super Anfitrião na tradução literal – é um título de reconhecimento que o site do Airbnb dá a seus melhores anfitriões.)\n",
        "* **multi**: anfitriões que possuem 2 a 4 listagens.  \n",
        "* **biz**:  anfitriões com mais de 4 listagens.\n",
        "* **cleanliness_rating**: classificação de limpeza da listagem. \t  \n",
        "* **guest_satisfaction_overall**: A classificação geral de satisfação do hóspede.\n",
        "* **bedrooms**: O número de quartos. (0 para estudios)\n",
        "* **dist**: A distância do centro da cidade em km.  \n",
        "* **metro_dist**: A distância da estação de metrô mais próxima em km.\n",
        "* **attr_index**: indice de atrações locais proximas\n",
        "* **attr_index_norm**: indice de atrações locais normalizadas (0-100)\n",
        "* **rest_index**: indice de restaurantes locais proximos\n",
        "* **rest_index_norm**: indice de restaurantes locais proximos normalizados (0-100)\n",
        "* **lng**: Longitude\n",
        "* **lat**: Latitude\n",
        "\n",
        "> fonte:\n",
        "*   https://anfitrioesdealuguel.com.br/blog/superhost/\n",
        "*   https://www.airbnb.com.br/help/article/828\n",
        "*   https://www.kaggle.com/datasets/thedevastator/airbnb-prices-in-european-cities\n",
        "*   https://zenodo.org/record/4446043#.Y9Y9ENJBwUE\n",
        "*   https://www.sciencedirect.com/science/article/pii/S0261517721000388"
      ],
      "metadata": {
        "id": "SYdPRuwh2PEe"
      }
    },
    {
      "cell_type": "markdown",
      "source": [
        "## **Os 5W's**\n",
        "\n",
        "* What (o que será feito?)\n",
        "Análise dos preços do Airbnb em cidades europeias populares\n",
        "\n",
        "* Why (por que será feito?)\n",
        "Identificar oportunidades e ameaças para os anunciantes do Airbnb, e explorar as relações entre os atributos para melhorar a competitividade.\n",
        "\n",
        "* Where (onde será feito?)\n",
        "A análise pode ser aplicada em diferentes cidades europeias onde o Airbnb está presente e onde há disponibilidade de dados sobre os preços e características das listagens.\n",
        "\n",
        "* When (quando será feito?)\n",
        "A análise pode ser realizada periodicamente para acompanhar as tendências dos preços e das características das listagens do Airbnb, e também pode ser conduzida antes de tomar decisões estratégicas relacionadas à precificação e diferenciação de anúncios.\n",
        "\n",
        "* Who (por quem será feito?)\n",
        "Anunciantes e gestores de propriedades no Airbnb, profissionais do setor de hospedagem, analistas de mercado e pesquisadores interessados nos preços e características das listagens do Airbnb."
      ],
      "metadata": {
        "id": "gDaYo-CaYt9q"
      }
    },
    {
      "cell_type": "markdown",
      "source": [
        "# Instalações e Importações"
      ],
      "metadata": {
        "id": "iFrNc23j2Tl_"
      }
    },
    {
      "cell_type": "code",
      "execution_count": null,
      "metadata": {
        "id": "cGTV4K2w0xhZ"
      },
      "outputs": [],
      "source": [
        "!pip install gcsfs # instalaçao de biblioteca para interagir com google cloud"
      ]
    },
    {
      "cell_type": "code",
      "source": [
        "!pip install pandera # instalaçao de biblioteca para validar dados com pandera"
      ],
      "metadata": {
        "id": "jnnF93Nv9L64"
      },
      "execution_count": null,
      "outputs": []
    },
    {
      "cell_type": "code",
      "source": [
        "# Importando Bibliotecas pré instaladas\n",
        "import pandas as pd\n",
        "import numpy as np\n",
        "import os\n",
        "import pandera as pa\n",
        "from  google.cloud import storage\n",
        "from google.colab import drive"
      ],
      "metadata": {
        "id": "9PyA1knO9Wau"
      },
      "execution_count": null,
      "outputs": []
    },
    {
      "cell_type": "code",
      "source": [
        "# Ignorando alguns alertas desnecessários\n",
        "import warnings\n",
        "warnings.filterwarnings(\"ignore\")"
      ],
      "metadata": {
        "id": "um2OUpf69mnW"
      },
      "execution_count": null,
      "outputs": []
    },
    {
      "cell_type": "code",
      "source": [
        "# Configuração da quantidade de colunas para aparecer em um DataFrame\n",
        "pd.set_option('display.max_columns',100)"
      ],
      "metadata": {
        "id": "AeslQXYjNiEy"
      },
      "execution_count": null,
      "outputs": []
    },
    {
      "cell_type": "markdown",
      "source": [
        "# **Extração**"
      ],
      "metadata": {
        "id": "9XXDoQeQ2X1g"
      }
    },
    {
      "cell_type": "code",
      "source": [
        "# Conexão com a conta do Google Cloud\n",
        "\n",
        "serviceAccount = '/content/atividade1turmaad2-wesleyluiz-b681309dc471.json' # chave da conta de serviço\n",
        "os.environ['GOOGLE_APPLICATION_CREDENTIALS'] = serviceAccount\n"
      ],
      "metadata": {
        "id": "CyymFDdQ2akm"
      },
      "execution_count": null,
      "outputs": []
    },
    {
      "cell_type": "code",
      "source": [
        "# Conexão com a bucket do Google Cloud\n",
        "\n",
        "client = storage.Client()\n",
        "bucket = client.get_bucket('repositorio-temporario-datasets') # nome do bucket\n",
        "bucket.blob('airbnb_bruto.csv') # nome do arquivo\n",
        "path = 'gs://repositorio-temporario-datasets/projeto-airbnb/bruto/airbnb_bruto.csv' # gsutil\n"
      ],
      "metadata": {
        "id": "TV-rH7EWbVpm"
      },
      "execution_count": null,
      "outputs": []
    },
    {
      "cell_type": "code",
      "source": [
        "# Conexão com o Google Drive\n",
        "# drive.mount('/content/drive')"
      ],
      "metadata": {
        "id": "cfBiJDOF-cGX"
      },
      "execution_count": null,
      "outputs": []
    },
    {
      "cell_type": "code",
      "source": [
        "# Conexão com a pasta do Google Drive\n",
        "# path = '/content/drive/MyDrive/Aulas-Soulcode-Python/airbnb_bruto.csv'"
      ],
      "metadata": {
        "id": "SS_a6kUj_GTB"
      },
      "execution_count": null,
      "outputs": []
    },
    {
      "cell_type": "code",
      "source": [
        "# Leitura e configuração dos arquivos extraidos\n",
        "df = pd.read_csv(path,\n",
        "                 sep=',',\n",
        "                 encoding='ISO-8859-1',\n",
        "                 dayfirst= True)"
      ],
      "metadata": {
        "id": "5RA70GsGesUH"
      },
      "execution_count": null,
      "outputs": []
    },
    {
      "cell_type": "markdown",
      "source": [
        "# **Pré análise**"
      ],
      "metadata": {
        "id": "qs_QuaeNfotg"
      }
    },
    {
      "cell_type": "code",
      "source": [
        "# Visualização geral\n",
        "df"
      ],
      "metadata": {
        "id": "ji1Xb8ccfuyt"
      },
      "execution_count": null,
      "outputs": []
    },
    {
      "cell_type": "code",
      "source": [
        "# Visualização de forma aleatoria\n",
        "df.sample(3)"
      ],
      "metadata": {
        "id": "7VOwplWAj1qP"
      },
      "execution_count": null,
      "outputs": []
    },
    {
      "cell_type": "code",
      "source": [
        "# Tamanho total de (linhas , colunas)\n",
        "df.shape"
      ],
      "metadata": {
        "id": "Vk8p8Nd-kMWP"
      },
      "execution_count": null,
      "outputs": []
    },
    {
      "cell_type": "code",
      "source": [
        "# Todos os tipos de dados presentes\n",
        "df.dtypes"
      ],
      "metadata": {
        "id": "fsZ6_xn6mGo3"
      },
      "execution_count": null,
      "outputs": []
    },
    {
      "cell_type": "code",
      "source": [
        "# Contagem de observações para cada coluna\n",
        "df.count()"
      ],
      "metadata": {
        "id": "-mLulv3imH94"
      },
      "execution_count": null,
      "outputs": []
    },
    {
      "cell_type": "code",
      "source": [
        "# Informações detalhadas\n",
        "df.info()"
      ],
      "metadata": {
        "id": "m6SgfErBpnz3"
      },
      "execution_count": null,
      "outputs": []
    },
    {
      "cell_type": "code",
      "source": [
        "# Backup local\n",
        "dfbackup1 = df.copy()"
      ],
      "metadata": {
        "id": "HhW4D4A9qTwe"
      },
      "execution_count": null,
      "outputs": []
    },
    {
      "cell_type": "markdown",
      "source": [
        "# **Transformação**"
      ],
      "metadata": {
        "id": "sNTNf77WrJMO"
      }
    },
    {
      "cell_type": "markdown",
      "source": [
        "## **Verificações**"
      ],
      "metadata": {
        "id": "bx2-rSWf0wAl"
      }
    },
    {
      "cell_type": "code",
      "source": [
        "# Verificar se há valores nulos/ausentes\n",
        "df.isnull().sum()"
      ],
      "metadata": {
        "id": "ByCYsxjVrNy4",
        "colab": {
          "base_uri": "https://localhost:8080/"
        },
        "outputId": "e2bfc82a-6e9d-4efd-9147-420461b49895"
      },
      "execution_count": null,
      "outputs": [
        {
          "output_type": "execute_result",
          "data": {
            "text/plain": [
              "Unnamed: 0                    0\n",
              "realSum                       0\n",
              "room_type                     0\n",
              "room_shared                   0\n",
              "room_private                  0\n",
              "person_capacity               0\n",
              "host_is_superhost             0\n",
              "multi                         0\n",
              "biz                           0\n",
              "cleanliness_rating            0\n",
              "guest_satisfaction_overall    0\n",
              "bedrooms                      0\n",
              "dist                          0\n",
              "metro_dist                    0\n",
              "attr_index                    0\n",
              "attr_index_norm               0\n",
              "rest_index                    0\n",
              "rest_index_norm               0\n",
              "lng                           0\n",
              "lat                           0\n",
              "dtype: int64"
            ]
          },
          "metadata": {},
          "execution_count": 18
        }
      ]
    },
    {
      "cell_type": "code",
      "source": [
        "# Verificar se há valores duplicados\n",
        "df.duplicated()"
      ],
      "metadata": {
        "id": "Bbj-7zCn2Fee",
        "colab": {
          "base_uri": "https://localhost:8080/"
        },
        "outputId": "3d8ab5d5-1029-4c13-b524-27db4d0a3add"
      },
      "execution_count": null,
      "outputs": [
        {
          "output_type": "execute_result",
          "data": {
            "text/plain": [
              "0       False\n",
              "1       False\n",
              "2       False\n",
              "3       False\n",
              "4       False\n",
              "        ...  \n",
              "1098    False\n",
              "1099    False\n",
              "1100    False\n",
              "1101    False\n",
              "1102    False\n",
              "Length: 1103, dtype: bool"
            ]
          },
          "metadata": {},
          "execution_count": 19
        }
      ]
    },
    {
      "cell_type": "code",
      "source": [
        "# Verificando os valores presentes na coluna 'bedrooms'\n",
        "print(f'Valores presentes na coluna bedrooms: {pd.unique(df.bedrooms)}')"
      ],
      "metadata": {
        "id": "VbHkWtWwZpg-",
        "colab": {
          "base_uri": "https://localhost:8080/"
        },
        "outputId": "0c241360-1600-4a77-f71d-94bad91cecc5"
      },
      "execution_count": null,
      "outputs": [
        {
          "output_type": "stream",
          "name": "stdout",
          "text": [
            "Valores presentes na coluna bedrooms: [1 2 3 0 5 4]\n"
          ]
        }
      ]
    },
    {
      "cell_type": "code",
      "source": [
        "# Visualizando se coluna 'satisfacao_hospede' ultrapassa o valor 100\n",
        "filtro_max_satisfaction = df.loc[:,'guest_satisfaction_overall']\n",
        "filtro_max_satisfaction.max()"
      ],
      "metadata": {
        "id": "uf1go6QNhvWe",
        "colab": {
          "base_uri": "https://localhost:8080/"
        },
        "outputId": "f0519bad-2553-4f56-eb97-4201391d935c"
      },
      "execution_count": null,
      "outputs": [
        {
          "output_type": "execute_result",
          "data": {
            "text/plain": [
              "100.0"
            ]
          },
          "metadata": {},
          "execution_count": 21
        }
      ]
    },
    {
      "cell_type": "code",
      "source": [
        "# Verifica a inconsistencia se há algum quarto que consta como compartilhado e privado ao mesmo tempo\n",
        "ft_room_shared = df.room_shared == True\n",
        "ft_room_private = df.room_private == True\n",
        "# Localizando as linhas que correspondem ao filtro feito antes\n",
        "df.loc[ft_room_shared & ft_room_private]\n",
        "'''\n",
        "Room shared e room private saem da lista, por redundancia, roomtype\n",
        "previamente traz os mesmo valores em uma unica coluna.\n",
        "'''"
      ],
      "metadata": {
        "id": "iHf68J1cMI0g",
        "colab": {
          "base_uri": "https://localhost:8080/",
          "height": 35
        },
        "outputId": "656f11cd-dcdf-4b1c-ccde-41b15cd2441e"
      },
      "execution_count": null,
      "outputs": [
        {
          "output_type": "execute_result",
          "data": {
            "text/plain": [
              "'\\nRoom shared e room private saem da lista, por redundancia, roomtype\\npreviamente traz os mesmo valores em uma unica coluna.\\n'"
            ],
            "application/vnd.google.colaboratory.intrinsic+json": {
              "type": "string"
            }
          },
          "metadata": {},
          "execution_count": 22
        }
      ]
    },
    {
      "cell_type": "code",
      "source": [
        "# Verificação ordenada das observações de latitude e longitude prevendo possiveis inconsistencias\n",
        "print(sorted(pd.unique(df.lng)))\n",
        "print(sorted(pd.unique(df.lat)))"
      ],
      "metadata": {
        "id": "Tex6fPs1dbZL"
      },
      "execution_count": null,
      "outputs": []
    },
    {
      "cell_type": "code",
      "source": [
        "# Verificando inconsistencias\n",
        "pd.unique(df.attr_index)"
      ],
      "metadata": {
        "id": "4vTSyAJvW5gy",
        "colab": {
          "base_uri": "https://localhost:8080/"
        },
        "outputId": "2543667c-d1e6-4ac5-a1fc-b498a2d394fb"
      },
      "execution_count": null,
      "outputs": [
        {
          "output_type": "execute_result",
          "data": {
            "text/plain": [
              "array([ 78.69037927, 631.17637825,  75.27587691, ..., 440.47651523,\n",
              "       257.94810507, 533.9626528 ])"
            ]
          },
          "metadata": {},
          "execution_count": 24
        }
      ]
    },
    {
      "cell_type": "code",
      "source": [
        "# Verificando inconsistencias\n",
        "pd.unique(df.attr_index_norm)"
      ],
      "metadata": {
        "id": "W7SepouoY50B",
        "colab": {
          "base_uri": "https://localhost:8080/"
        },
        "outputId": "f2d7428d-688e-4dcc-d9e9-2d20aa6e189c"
      },
      "execution_count": null,
      "outputs": [
        {
          "output_type": "execute_result",
          "data": {
            "text/plain": [
              "array([ 4.16670787, 33.42120862,  3.9859077 , ..., 23.32352416,\n",
              "       13.65852356, 28.27367726])"
            ]
          },
          "metadata": {},
          "execution_count": 25
        }
      ]
    },
    {
      "cell_type": "code",
      "source": [
        "# Verificando inconsistencias\n",
        "pd.unique(df.rest_index)"
      ],
      "metadata": {
        "id": "1tu9go0LZBtz",
        "colab": {
          "base_uri": "https://localhost:8080/"
        },
        "outputId": "97b10c49-e31e-455e-ae7c-f7fc189f8e63"
      },
      "execution_count": null,
      "outputs": [
        {
          "output_type": "execute_result",
          "data": {
            "text/plain": [
              "array([ 98.25389587, 837.28075674,  95.38695493, ..., 625.94756243,\n",
              "       336.58923657, 807.49230724])"
            ]
          },
          "metadata": {},
          "execution_count": 26
        }
      ]
    },
    {
      "cell_type": "code",
      "source": [
        "# Verificando inconsistencias\n",
        "pd.unique(df.rest_index_norm)"
      ],
      "metadata": {
        "id": "BO3JXgTgZLzZ",
        "colab": {
          "base_uri": "https://localhost:8080/"
        },
        "outputId": "37bf62c9-82fb-425d-d845-e062b7b1dec8"
      },
      "execution_count": null,
      "outputs": [
        {
          "output_type": "execute_result",
          "data": {
            "text/plain": [
              "array([ 6.84647282, 58.34292774,  6.64670025, ..., 43.61692671,\n",
              "       23.45402226, 56.26722573])"
            ]
          },
          "metadata": {},
          "execution_count": 27
        }
      ]
    },
    {
      "cell_type": "markdown",
      "source": [
        "## **Tradução**"
      ],
      "metadata": {
        "id": "VOWheHjC1BqV"
      }
    },
    {
      "cell_type": "code",
      "source": [
        "# Renomeando/Traduzindo colunas\n",
        "df.rename(columns={'realSum':'preco_total',\n",
        "                   'room_type':'tipo_quarto',\n",
        "                   'room_shared': 'quarto_compartilhado',\n",
        "                   'room_private': 'quarto_privado',\n",
        "                   'person_capacity':'capacidade_pessoas',\n",
        "                   'host_is_superhost':'anfitriao_superhost',\n",
        "                   'multi': 'detem_multiplas_listagens',\n",
        "                   'biz':'detem_abundantes_listagens',\n",
        "                   'cleanliness_rating':'avaliacao_limpeza',\n",
        "                   'guest_satisfaction_overall':'satisfacao_hospede',\n",
        "                   'bedrooms':'quantidade_quartos',\n",
        "                   'dist':'distancia_centro',\n",
        "                   'metro_dist':'metro_distancia',\n",
        "                   'attr_index': 'atracao_local_index',\n",
        "                   'attr_index_norm': 'atracao_local_normalizado',\n",
        "                   'rest_index': 'restaurante_local_index',\n",
        "                   'rest_index_norm': 'restaurante_local_normalizado',\n",
        "                   'lng': 'longitude',\n",
        "                   'lat': 'latitude',}, inplace=True)"
      ],
      "metadata": {
        "id": "RnynpUhG1KZd"
      },
      "execution_count": null,
      "outputs": []
    },
    {
      "cell_type": "code",
      "source": [
        "# Examinando se as colunas foram alteradas\n",
        "df.dtypes"
      ],
      "metadata": {
        "id": "YSCe0djotK4u",
        "colab": {
          "base_uri": "https://localhost:8080/"
        },
        "outputId": "d1b0b402-1369-4642-e2f0-4f402ac48483"
      },
      "execution_count": null,
      "outputs": [
        {
          "output_type": "execute_result",
          "data": {
            "text/plain": [
              "Unnamed: 0                         int64\n",
              "preco_total                      float64\n",
              "tipo_quarto                       object\n",
              "quarto_compartilhado                bool\n",
              "quarto_privado                      bool\n",
              "capacidade_pessoas               float64\n",
              "anfitriao_superhost                 bool\n",
              "detem_multiplas_listagens          int64\n",
              "detem_abundantes_listagens         int64\n",
              "avaliacao_limpeza                float64\n",
              "satisfacao_hospede               float64\n",
              "quantidade_quartos                 int64\n",
              "distancia_centro                 float64\n",
              "metro_distancia                  float64\n",
              "atracao_local_index              float64\n",
              "atracao_local_normalizado        float64\n",
              "restaurante_local_index          float64\n",
              "restaurante_local_normalizado    float64\n",
              "longitude                        float64\n",
              "latitude                         float64\n",
              "dtype: object"
            ]
          },
          "metadata": {},
          "execution_count": 29
        }
      ]
    },
    {
      "cell_type": "code",
      "source": [
        "# Renomeando/Traduzindo registros\n",
        "\n",
        "traducao_tipo_quarto = {\n",
        "    'Private room': 'QUARTO PRIVADO',\n",
        "    'Entire home/apt': 'APT/CASA INTEIRA',\n",
        "    'Shared room': 'QUARTO COMPARTILHADO'\n",
        "}\n",
        "df.tipo_quarto.replace(traducao_tipo_quarto,inplace=True)"
      ],
      "metadata": {
        "id": "PPPWrxZi7HFW"
      },
      "execution_count": null,
      "outputs": []
    },
    {
      "cell_type": "code",
      "source": [
        "# Examinando se os registros foram alterados\n",
        "pd.unique(df.tipo_quarto)"
      ],
      "metadata": {
        "id": "cU-SFkb14MWN",
        "colab": {
          "base_uri": "https://localhost:8080/"
        },
        "outputId": "6e0d99d7-9e81-4afc-e13b-7a0aabf15653"
      },
      "execution_count": null,
      "outputs": [
        {
          "output_type": "execute_result",
          "data": {
            "text/plain": [
              "array(['QUARTO PRIVADO', 'APT/CASA INTEIRA', 'QUARTO COMPARTILHADO'],\n",
              "      dtype=object)"
            ]
          },
          "metadata": {},
          "execution_count": 31
        }
      ]
    },
    {
      "cell_type": "markdown",
      "source": [
        "## **Tipagem**"
      ],
      "metadata": {
        "id": "oegfGTDXDDWk"
      }
    },
    {
      "cell_type": "code",
      "source": [
        "# Realizando a tipagem das variaveis\n",
        "df.capacidade_pessoas = df.capacidade_pessoas.astype(int)"
      ],
      "metadata": {
        "id": "K1uw-SmdDG7d"
      },
      "execution_count": null,
      "outputs": []
    },
    {
      "cell_type": "code",
      "source": [
        "# Realizando a tipagem das variaveis\n",
        "df.satisfacao_hospede = df.satisfacao_hospede.astype(int)"
      ],
      "metadata": {
        "id": "sGgHC7IsiRv2"
      },
      "execution_count": null,
      "outputs": []
    },
    {
      "cell_type": "code",
      "source": [
        "dfbackup2 = df.copy()"
      ],
      "metadata": {
        "id": "6CoRysSwatXu"
      },
      "execution_count": null,
      "outputs": []
    },
    {
      "cell_type": "code",
      "source": [
        "df.dtypes"
      ],
      "metadata": {
        "id": "wrB5kz2Ygc6v",
        "colab": {
          "base_uri": "https://localhost:8080/"
        },
        "outputId": "1898d31c-68f1-44ee-a742-4273a5ca0c15"
      },
      "execution_count": null,
      "outputs": [
        {
          "output_type": "execute_result",
          "data": {
            "text/plain": [
              "Unnamed: 0                         int64\n",
              "preco_total                      float64\n",
              "tipo_quarto                       object\n",
              "quarto_compartilhado                bool\n",
              "quarto_privado                      bool\n",
              "capacidade_pessoas                 int64\n",
              "anfitriao_superhost                 bool\n",
              "detem_multiplas_listagens          int64\n",
              "detem_abundantes_listagens         int64\n",
              "avaliacao_limpeza                float64\n",
              "satisfacao_hospede                 int64\n",
              "quantidade_quartos                 int64\n",
              "distancia_centro                 float64\n",
              "metro_distancia                  float64\n",
              "atracao_local_index              float64\n",
              "atracao_local_normalizado        float64\n",
              "restaurante_local_index          float64\n",
              "restaurante_local_normalizado    float64\n",
              "longitude                        float64\n",
              "latitude                         float64\n",
              "dtype: object"
            ]
          },
          "metadata": {},
          "execution_count": 35
        }
      ]
    },
    {
      "cell_type": "markdown",
      "source": [
        "## **Limpeza**"
      ],
      "metadata": {
        "id": "A5vlmeI209RN"
      }
    },
    {
      "cell_type": "code",
      "source": [
        "# Descartando colunas\n",
        "df.drop(['Unnamed: 0', # por que bla bla bla\n",
        "         'quarto_compartilhado', #\n",
        "         'quarto_privado', #\n",
        "         'detem_multiplas_listagens',\n",
        "         'detem_abundantes_listagens',\n",
        "         'atracao_local_index',\n",
        "         'restaurante_local_index',], axis=1, inplace=True)"
      ],
      "metadata": {
        "id": "XzEB2isFezRu"
      },
      "execution_count": null,
      "outputs": []
    },
    {
      "cell_type": "markdown",
      "source": [
        "# **Qualidade e integridade dos dados**"
      ],
      "metadata": {
        "id": "j6krOtKKvkR-"
      }
    },
    {
      "cell_type": "markdown",
      "source": [
        "## **Colunas Persistidas**"
      ],
      "metadata": {
        "id": "JqXejczoZybS"
      }
    },
    {
      "cell_type": "markdown",
      "source": [
        "* preco_total\n",
        "* tipo_quarto\n",
        "* capacidade_pessoas\n",
        "* anfitriao_superhost\n",
        "* avaliacao_limpeza\n",
        "* satisfacao_hospede\n",
        "* quantidade_quartos\n",
        "* distancia_centro\n",
        "* metro_distancia\n",
        "* atracao_local_normalizado\n",
        "* restaurante_local_normalizado\n",
        "* longitude\n",
        "* latitude"
      ],
      "metadata": {
        "id": "mNOCmwZecd8v"
      }
    },
    {
      "cell_type": "markdown",
      "source": [
        "## **Validar schema**"
      ],
      "metadata": {
        "id": "S03P8PdZwETm"
      }
    },
    {
      "cell_type": "code",
      "source": [
        "# Definindo o esquema de validação e o examinando\n",
        "schema = pa.DataFrameSchema({\n",
        "    'preco_total': pa.Column(pa.Float),\n",
        "    'tipo_quarto': pa.Column(pa.String),\n",
        "    'capacidade_pessoas': pa.Column(pa.Int),\n",
        "    'anfitriao_superhost': pa.Column(pa.Bool),\n",
        "    'avaliacao_limpeza': pa.Column(pa.Float),\n",
        "    'satisfacao_hospede': pa.Column(pa.Int),\n",
        "    'quantidade_quartos': pa.Column(pa.Int),\n",
        "    'distancia_centro': pa.Column(pa.Float),\n",
        "    'metro_distancia': pa.Column(pa.Float),\n",
        "    'atracao_local_normalizado': pa.Column(pa.Float),\n",
        "    'restaurante_local_normalizado': pa.Column(pa.Float),\n",
        "    'longitude': pa.Column(pa.Float),\n",
        "    'latitude': pa.Column(pa.Float)\n",
        "})\n",
        "\n",
        "schema.validate(df)"
      ],
      "metadata": {
        "id": "pSPVby2swCzm",
        "colab": {
          "base_uri": "https://localhost:8080/",
          "height": 661
        },
        "outputId": "39cb18b9-b946-4f3c-9dba-d4adabb5fecb"
      },
      "execution_count": null,
      "outputs": [
        {
          "output_type": "execute_result",
          "data": {
            "text/plain": [
              "      preco_total           tipo_quarto  capacidade_pessoas  \\\n",
              "0      194.033698        QUARTO PRIVADO                   2   \n",
              "1      344.245776        QUARTO PRIVADO                   4   \n",
              "2      264.101422        QUARTO PRIVADO                   2   \n",
              "3      433.529398        QUARTO PRIVADO                   4   \n",
              "4      485.552926        QUARTO PRIVADO                   2   \n",
              "...           ...                   ...                 ...   \n",
              "1098  2486.115342      APT/CASA INTEIRA                   2   \n",
              "1099   233.637194        QUARTO PRIVADO                   2   \n",
              "1100   317.062311        QUARTO PRIVADO                   2   \n",
              "1101  1812.855904      APT/CASA INTEIRA                   4   \n",
              "1102   258.008577  QUARTO COMPARTILHADO                   2   \n",
              "\n",
              "      anfitriao_superhost  avaliacao_limpeza  satisfacao_hospede  \\\n",
              "0                   False               10.0                  93   \n",
              "1                   False                8.0                  85   \n",
              "2                   False                9.0                  87   \n",
              "3                   False                9.0                  90   \n",
              "4                    True               10.0                  98   \n",
              "...                   ...                ...                 ...   \n",
              "1098                False               10.0                 100   \n",
              "1099                False               10.0                  90   \n",
              "1100                False               10.0                  92   \n",
              "1101                False                8.0                  84   \n",
              "1102                False                8.0                  90   \n",
              "\n",
              "      quantidade_quartos  distancia_centro  metro_distancia  \\\n",
              "0                      1          5.022964         2.539380   \n",
              "1                      1          0.488389         0.239404   \n",
              "2                      1          5.748312         3.651621   \n",
              "3                      2          0.384862         0.439876   \n",
              "4                      1          0.544738         0.318693   \n",
              "...                  ...               ...              ...   \n",
              "1098                   1          2.375833         1.436054   \n",
              "1099                   1          4.719736         0.322263   \n",
              "1100                   1          0.598355         0.751993   \n",
              "1101                   5          1.943020         0.388532   \n",
              "1102                   1          0.280204         0.516217   \n",
              "\n",
              "      atracao_local_normalizado  restaurante_local_normalizado  longitude  \\\n",
              "0                      4.166708                       6.846473    4.90569   \n",
              "1                     33.421209                      58.342928    4.90005   \n",
              "2                      3.985908                       6.646700    4.97512   \n",
              "3                     26.119108                      60.973565    4.89417   \n",
              "4                     29.272733                      56.811677    4.90051   \n",
              "...                         ...                            ...        ...   \n",
              "1098                   9.594573                      15.699521    4.85869   \n",
              "1099                   5.719989                       9.391335    4.83611   \n",
              "1100                  23.323524                      43.616927    4.88897   \n",
              "1101                  13.658524                      23.454022    4.90688   \n",
              "1102                  28.273677                      56.267226    4.89295   \n",
              "\n",
              "      latitude  \n",
              "0     52.41772  \n",
              "1     52.37432  \n",
              "2     52.36103  \n",
              "3     52.37663  \n",
              "4     52.37508  \n",
              "...        ...  \n",
              "1098  52.37677  \n",
              "1099  52.34910  \n",
              "1100  52.37798  \n",
              "1101  52.35794  \n",
              "1102  52.37575  \n",
              "\n",
              "[1103 rows x 13 columns]"
            ],
            "text/html": [
              "\n",
              "  <div id=\"df-b993466d-879e-474d-87a0-f76adaa86406\">\n",
              "    <div class=\"colab-df-container\">\n",
              "      <div>\n",
              "<style scoped>\n",
              "    .dataframe tbody tr th:only-of-type {\n",
              "        vertical-align: middle;\n",
              "    }\n",
              "\n",
              "    .dataframe tbody tr th {\n",
              "        vertical-align: top;\n",
              "    }\n",
              "\n",
              "    .dataframe thead th {\n",
              "        text-align: right;\n",
              "    }\n",
              "</style>\n",
              "<table border=\"1\" class=\"dataframe\">\n",
              "  <thead>\n",
              "    <tr style=\"text-align: right;\">\n",
              "      <th></th>\n",
              "      <th>preco_total</th>\n",
              "      <th>tipo_quarto</th>\n",
              "      <th>capacidade_pessoas</th>\n",
              "      <th>anfitriao_superhost</th>\n",
              "      <th>avaliacao_limpeza</th>\n",
              "      <th>satisfacao_hospede</th>\n",
              "      <th>quantidade_quartos</th>\n",
              "      <th>distancia_centro</th>\n",
              "      <th>metro_distancia</th>\n",
              "      <th>atracao_local_normalizado</th>\n",
              "      <th>restaurante_local_normalizado</th>\n",
              "      <th>longitude</th>\n",
              "      <th>latitude</th>\n",
              "    </tr>\n",
              "  </thead>\n",
              "  <tbody>\n",
              "    <tr>\n",
              "      <th>0</th>\n",
              "      <td>194.033698</td>\n",
              "      <td>QUARTO PRIVADO</td>\n",
              "      <td>2</td>\n",
              "      <td>False</td>\n",
              "      <td>10.0</td>\n",
              "      <td>93</td>\n",
              "      <td>1</td>\n",
              "      <td>5.022964</td>\n",
              "      <td>2.539380</td>\n",
              "      <td>4.166708</td>\n",
              "      <td>6.846473</td>\n",
              "      <td>4.90569</td>\n",
              "      <td>52.41772</td>\n",
              "    </tr>\n",
              "    <tr>\n",
              "      <th>1</th>\n",
              "      <td>344.245776</td>\n",
              "      <td>QUARTO PRIVADO</td>\n",
              "      <td>4</td>\n",
              "      <td>False</td>\n",
              "      <td>8.0</td>\n",
              "      <td>85</td>\n",
              "      <td>1</td>\n",
              "      <td>0.488389</td>\n",
              "      <td>0.239404</td>\n",
              "      <td>33.421209</td>\n",
              "      <td>58.342928</td>\n",
              "      <td>4.90005</td>\n",
              "      <td>52.37432</td>\n",
              "    </tr>\n",
              "    <tr>\n",
              "      <th>2</th>\n",
              "      <td>264.101422</td>\n",
              "      <td>QUARTO PRIVADO</td>\n",
              "      <td>2</td>\n",
              "      <td>False</td>\n",
              "      <td>9.0</td>\n",
              "      <td>87</td>\n",
              "      <td>1</td>\n",
              "      <td>5.748312</td>\n",
              "      <td>3.651621</td>\n",
              "      <td>3.985908</td>\n",
              "      <td>6.646700</td>\n",
              "      <td>4.97512</td>\n",
              "      <td>52.36103</td>\n",
              "    </tr>\n",
              "    <tr>\n",
              "      <th>3</th>\n",
              "      <td>433.529398</td>\n",
              "      <td>QUARTO PRIVADO</td>\n",
              "      <td>4</td>\n",
              "      <td>False</td>\n",
              "      <td>9.0</td>\n",
              "      <td>90</td>\n",
              "      <td>2</td>\n",
              "      <td>0.384862</td>\n",
              "      <td>0.439876</td>\n",
              "      <td>26.119108</td>\n",
              "      <td>60.973565</td>\n",
              "      <td>4.89417</td>\n",
              "      <td>52.37663</td>\n",
              "    </tr>\n",
              "    <tr>\n",
              "      <th>4</th>\n",
              "      <td>485.552926</td>\n",
              "      <td>QUARTO PRIVADO</td>\n",
              "      <td>2</td>\n",
              "      <td>True</td>\n",
              "      <td>10.0</td>\n",
              "      <td>98</td>\n",
              "      <td>1</td>\n",
              "      <td>0.544738</td>\n",
              "      <td>0.318693</td>\n",
              "      <td>29.272733</td>\n",
              "      <td>56.811677</td>\n",
              "      <td>4.90051</td>\n",
              "      <td>52.37508</td>\n",
              "    </tr>\n",
              "    <tr>\n",
              "      <th>...</th>\n",
              "      <td>...</td>\n",
              "      <td>...</td>\n",
              "      <td>...</td>\n",
              "      <td>...</td>\n",
              "      <td>...</td>\n",
              "      <td>...</td>\n",
              "      <td>...</td>\n",
              "      <td>...</td>\n",
              "      <td>...</td>\n",
              "      <td>...</td>\n",
              "      <td>...</td>\n",
              "      <td>...</td>\n",
              "      <td>...</td>\n",
              "    </tr>\n",
              "    <tr>\n",
              "      <th>1098</th>\n",
              "      <td>2486.115342</td>\n",
              "      <td>APT/CASA INTEIRA</td>\n",
              "      <td>2</td>\n",
              "      <td>False</td>\n",
              "      <td>10.0</td>\n",
              "      <td>100</td>\n",
              "      <td>1</td>\n",
              "      <td>2.375833</td>\n",
              "      <td>1.436054</td>\n",
              "      <td>9.594573</td>\n",
              "      <td>15.699521</td>\n",
              "      <td>4.85869</td>\n",
              "      <td>52.37677</td>\n",
              "    </tr>\n",
              "    <tr>\n",
              "      <th>1099</th>\n",
              "      <td>233.637194</td>\n",
              "      <td>QUARTO PRIVADO</td>\n",
              "      <td>2</td>\n",
              "      <td>False</td>\n",
              "      <td>10.0</td>\n",
              "      <td>90</td>\n",
              "      <td>1</td>\n",
              "      <td>4.719736</td>\n",
              "      <td>0.322263</td>\n",
              "      <td>5.719989</td>\n",
              "      <td>9.391335</td>\n",
              "      <td>4.83611</td>\n",
              "      <td>52.34910</td>\n",
              "    </tr>\n",
              "    <tr>\n",
              "      <th>1100</th>\n",
              "      <td>317.062311</td>\n",
              "      <td>QUARTO PRIVADO</td>\n",
              "      <td>2</td>\n",
              "      <td>False</td>\n",
              "      <td>10.0</td>\n",
              "      <td>92</td>\n",
              "      <td>1</td>\n",
              "      <td>0.598355</td>\n",
              "      <td>0.751993</td>\n",
              "      <td>23.323524</td>\n",
              "      <td>43.616927</td>\n",
              "      <td>4.88897</td>\n",
              "      <td>52.37798</td>\n",
              "    </tr>\n",
              "    <tr>\n",
              "      <th>1101</th>\n",
              "      <td>1812.855904</td>\n",
              "      <td>APT/CASA INTEIRA</td>\n",
              "      <td>4</td>\n",
              "      <td>False</td>\n",
              "      <td>8.0</td>\n",
              "      <td>84</td>\n",
              "      <td>5</td>\n",
              "      <td>1.943020</td>\n",
              "      <td>0.388532</td>\n",
              "      <td>13.658524</td>\n",
              "      <td>23.454022</td>\n",
              "      <td>4.90688</td>\n",
              "      <td>52.35794</td>\n",
              "    </tr>\n",
              "    <tr>\n",
              "      <th>1102</th>\n",
              "      <td>258.008577</td>\n",
              "      <td>QUARTO COMPARTILHADO</td>\n",
              "      <td>2</td>\n",
              "      <td>False</td>\n",
              "      <td>8.0</td>\n",
              "      <td>90</td>\n",
              "      <td>1</td>\n",
              "      <td>0.280204</td>\n",
              "      <td>0.516217</td>\n",
              "      <td>28.273677</td>\n",
              "      <td>56.267226</td>\n",
              "      <td>4.89295</td>\n",
              "      <td>52.37575</td>\n",
              "    </tr>\n",
              "  </tbody>\n",
              "</table>\n",
              "<p>1103 rows × 13 columns</p>\n",
              "</div>\n",
              "      <button class=\"colab-df-convert\" onclick=\"convertToInteractive('df-b993466d-879e-474d-87a0-f76adaa86406')\"\n",
              "              title=\"Convert this dataframe to an interactive table.\"\n",
              "              style=\"display:none;\">\n",
              "        \n",
              "  <svg xmlns=\"http://www.w3.org/2000/svg\" height=\"24px\"viewBox=\"0 0 24 24\"\n",
              "       width=\"24px\">\n",
              "    <path d=\"M0 0h24v24H0V0z\" fill=\"none\"/>\n",
              "    <path d=\"M18.56 5.44l.94 2.06.94-2.06 2.06-.94-2.06-.94-.94-2.06-.94 2.06-2.06.94zm-11 1L8.5 8.5l.94-2.06 2.06-.94-2.06-.94L8.5 2.5l-.94 2.06-2.06.94zm10 10l.94 2.06.94-2.06 2.06-.94-2.06-.94-.94-2.06-.94 2.06-2.06.94z\"/><path d=\"M17.41 7.96l-1.37-1.37c-.4-.4-.92-.59-1.43-.59-.52 0-1.04.2-1.43.59L10.3 9.45l-7.72 7.72c-.78.78-.78 2.05 0 2.83L4 21.41c.39.39.9.59 1.41.59.51 0 1.02-.2 1.41-.59l7.78-7.78 2.81-2.81c.8-.78.8-2.07 0-2.86zM5.41 20L4 18.59l7.72-7.72 1.47 1.35L5.41 20z\"/>\n",
              "  </svg>\n",
              "      </button>\n",
              "      \n",
              "  <style>\n",
              "    .colab-df-container {\n",
              "      display:flex;\n",
              "      flex-wrap:wrap;\n",
              "      gap: 12px;\n",
              "    }\n",
              "\n",
              "    .colab-df-convert {\n",
              "      background-color: #E8F0FE;\n",
              "      border: none;\n",
              "      border-radius: 50%;\n",
              "      cursor: pointer;\n",
              "      display: none;\n",
              "      fill: #1967D2;\n",
              "      height: 32px;\n",
              "      padding: 0 0 0 0;\n",
              "      width: 32px;\n",
              "    }\n",
              "\n",
              "    .colab-df-convert:hover {\n",
              "      background-color: #E2EBFA;\n",
              "      box-shadow: 0px 1px 2px rgba(60, 64, 67, 0.3), 0px 1px 3px 1px rgba(60, 64, 67, 0.15);\n",
              "      fill: #174EA6;\n",
              "    }\n",
              "\n",
              "    [theme=dark] .colab-df-convert {\n",
              "      background-color: #3B4455;\n",
              "      fill: #D2E3FC;\n",
              "    }\n",
              "\n",
              "    [theme=dark] .colab-df-convert:hover {\n",
              "      background-color: #434B5C;\n",
              "      box-shadow: 0px 1px 3px 1px rgba(0, 0, 0, 0.15);\n",
              "      filter: drop-shadow(0px 1px 2px rgba(0, 0, 0, 0.3));\n",
              "      fill: #FFFFFF;\n",
              "    }\n",
              "  </style>\n",
              "\n",
              "      <script>\n",
              "        const buttonEl =\n",
              "          document.querySelector('#df-b993466d-879e-474d-87a0-f76adaa86406 button.colab-df-convert');\n",
              "        buttonEl.style.display =\n",
              "          google.colab.kernel.accessAllowed ? 'block' : 'none';\n",
              "\n",
              "        async function convertToInteractive(key) {\n",
              "          const element = document.querySelector('#df-b993466d-879e-474d-87a0-f76adaa86406');\n",
              "          const dataTable =\n",
              "            await google.colab.kernel.invokeFunction('convertToInteractive',\n",
              "                                                     [key], {});\n",
              "          if (!dataTable) return;\n",
              "\n",
              "          const docLinkHtml = 'Like what you see? Visit the ' +\n",
              "            '<a target=\"_blank\" href=https://colab.research.google.com/notebooks/data_table.ipynb>data table notebook</a>'\n",
              "            + ' to learn more about interactive tables.';\n",
              "          element.innerHTML = '';\n",
              "          dataTable['output_type'] = 'display_data';\n",
              "          await google.colab.output.renderOutput(dataTable, element);\n",
              "          const docLink = document.createElement('div');\n",
              "          docLink.innerHTML = docLinkHtml;\n",
              "          element.appendChild(docLink);\n",
              "        }\n",
              "      </script>\n",
              "    </div>\n",
              "  </div>\n",
              "  "
            ]
          },
          "metadata": {},
          "execution_count": 38
        }
      ]
    },
    {
      "cell_type": "code",
      "source": [
        "# Backup para analise\n",
        "df_tratado = df.copy()"
      ],
      "metadata": {
        "id": "kPn9PJEFvtWW"
      },
      "execution_count": null,
      "outputs": []
    },
    {
      "cell_type": "markdown",
      "source": [
        "# **Carregamento**"
      ],
      "metadata": {
        "id": "Xt5bPZKLy68f"
      }
    },
    {
      "cell_type": "code",
      "source": [
        "# Upando para o Google Drive\n",
        "# df.to_csv('/content/drive/MyDrive/Aulas-Soulcode-Python/airbnb_tratado.csv', index=False)"
      ],
      "metadata": {
        "id": "nJC8UPAty9BB"
      },
      "execution_count": null,
      "outputs": []
    },
    {
      "cell_type": "code",
      "source": [
        "# Upando para o Google Cloud\n",
        "\n",
        "df.to_csv('gs://repositorio-temporario-datasets/projeto-airbnb/tratado/airbnb_tratado.csv', index=False)\n"
      ],
      "metadata": {
        "id": "ya7oNjhIlxeF"
      },
      "execution_count": null,
      "outputs": []
    },
    {
      "cell_type": "markdown",
      "source": [
        "# **Analise exploratória**"
      ],
      "metadata": {
        "id": "qh_QtwFv0rJ8"
      }
    },
    {
      "cell_type": "markdown",
      "source": [
        "## **Filtros e agrupamentos**"
      ],
      "metadata": {
        "id": "hWnwXO3c8UAz"
      }
    },
    {
      "cell_type": "markdown",
      "source": [
        "Preço, atrações e restaurantes."
      ],
      "metadata": {
        "id": "_RPO-JhvfItx"
      }
    },
    {
      "cell_type": "code",
      "source": [
        "# Filtrando e Comparando a minima, média e maxima de preços, atrações e restaurantes Locais\n",
        "filtro_desc_attr_rest = df[['preco_total','atracao_local_normalizado', 'restaurante_local_normalizado']]\n",
        "filtro_desc_attr_rest.agg(['min','mean', 'max']).round(2)"
      ],
      "metadata": {
        "id": "33E8jRrGpkUx"
      },
      "execution_count": null,
      "outputs": []
    },
    {
      "cell_type": "code",
      "source": [
        "# Filtro de preços para listagens na faixa de maior ou igual 75%(657)\n",
        "filtro_maior_preco = (df.preco_total >= 657)\n",
        "df_maior_preco = df.loc[filtro_maior_preco]\n",
        "df_maior_preco"
      ],
      "metadata": {
        "id": "CK6WmiI0j-YK"
      },
      "execution_count": null,
      "outputs": []
    },
    {
      "cell_type": "code",
      "source": [
        "# Filtro de preços para listagens na faixa de menor ou igual 25%(309)\n",
        "filtro_menor_preco = (df.preco_total <= 309)\n",
        "df_menor_preco = df.loc[filtro_menor_preco]\n",
        "df_menor_preco"
      ],
      "metadata": {
        "id": "FrD6XboOlBAZ"
      },
      "execution_count": null,
      "outputs": []
    },
    {
      "cell_type": "code",
      "source": [
        "# Filtro e agrupamento combinados, verificando quantos registros atendem a condição e qual seu preço médio\n",
        "filtro_attr_rest = (df['atracao_local_normalizado'] < 50) & (df['restaurante_local_normalizado'] < 50)\n",
        "df_attr_rest_filtro = df[filtro_attr_rest]\n",
        "df_attr_rest_filtro.groupby(['atracao_local_normalizado', 'restaurante_local_normalizado'])['preco_total'].mean()"
      ],
      "metadata": {
        "id": "-_MFALLaEnMV"
      },
      "execution_count": null,
      "outputs": []
    },
    {
      "cell_type": "code",
      "source": [
        "# Estatisticas descritivas dos tres atributos\n",
        "estatistica_preco_total = df.preco_total.describe()\n",
        "estatistica_atracao_local = df.atracao_local_normalizado.describe()\n",
        "estatistica_restaurante_local = df.restaurante_local_normalizado.describe()\n",
        "\n",
        "print('Preço')\n",
        "print(estatistica_preco_total)\n",
        "print('-----------------------------')\n",
        "print('Atração local')\n",
        "print(estatistica_atracao_local)\n",
        "print('-----------------------------')\n",
        "print('Restaurante local')\n",
        "print(estatistica_restaurante_local)"
      ],
      "metadata": {
        "id": "zy17tUSRf6-h"
      },
      "execution_count": null,
      "outputs": []
    },
    {
      "cell_type": "code",
      "source": [
        "# Cálculo e exibição da correlação entre preço e atrações/restaurantes locais\n",
        "correlacao_atracoes = df['preco_total'].corr(df['atracao_local_normalizado'])\n",
        "correlacao_restaurantes = df['preco_total'].corr(df['restaurante_local_normalizado'])\n",
        "print(f'A correlação do preço atrelada a atrações locais {correlacao_atracoes:.2}')\n",
        "print(f'A correlação do preço atrelada aos restaurantes locais {correlacao_restaurantes:.2}')"
      ],
      "metadata": {
        "id": "aXg-KznigAJN"
      },
      "execution_count": null,
      "outputs": []
    },
    {
      "cell_type": "markdown",
      "source": [
        "tipo quarto, avaliação limpeza e satisfação hospede"
      ],
      "metadata": {
        "id": "lKRCwksJfePT"
      }
    },
    {
      "cell_type": "code",
      "source": [
        "# Correlação entre limpeza e satisfação, atrelado ao tipo de quarto\n",
        "df.groupby('tipo_quarto')['avaliacao_limpeza'].corr(df['satisfacao_hospede'])"
      ],
      "metadata": {
        "colab": {
          "base_uri": "https://localhost:8080/"
        },
        "id": "w3zlsAYox_IK",
        "outputId": "84349c19-2d7e-4227-f8e2-de581bdfaba8"
      },
      "execution_count": null,
      "outputs": [
        {
          "output_type": "execute_result",
          "data": {
            "text/plain": [
              "tipo_quarto\n",
              "APT/CASA INTEIRA        0.689969\n",
              "QUARTO COMPARTILHADO    0.888307\n",
              "QUARTO PRIVADO          0.642493\n",
              "Name: avaliacao_limpeza, dtype: float64"
            ]
          },
          "metadata": {},
          "execution_count": 48
        }
      ]
    },
    {
      "cell_type": "code",
      "source": [
        "# Quantidade de registros para cada tipo de quarto\n",
        "df.groupby('tipo_quarto')['satisfacao_hospede'].size().sort_values(ascending=False)"
      ],
      "metadata": {
        "colab": {
          "base_uri": "https://localhost:8080/"
        },
        "id": "j03pSpNrueSH",
        "outputId": "b0451499-9333-44c7-8863-e5bb15278583"
      },
      "execution_count": null,
      "outputs": [
        {
          "output_type": "execute_result",
          "data": {
            "text/plain": [
              "tipo_quarto\n",
              "QUARTO PRIVADO          559\n",
              "APT/CASA INTEIRA        538\n",
              "QUARTO COMPARTILHADO      6\n",
              "Name: satisfacao_hospede, dtype: int64"
            ]
          },
          "metadata": {},
          "execution_count": 49
        }
      ]
    },
    {
      "cell_type": "code",
      "source": [
        "# Estatisticas descritivas de limpeza e satisfação\n",
        "estatistica_avalicao_limpeza = df.avaliacao_limpeza.describe()\n",
        "estatistica_satisfacao_hospede = df.satisfacao_hospede.describe()\n",
        "\n",
        "print('Avaliação limpeza')\n",
        "print(estatistica_avalicao_limpeza)\n",
        "print('-----------------------------')\n",
        "print('Satisfação hospede')\n",
        "print(estatistica_satisfacao_hospede)"
      ],
      "metadata": {
        "colab": {
          "base_uri": "https://localhost:8080/"
        },
        "id": "CauO5L1LEIlL",
        "outputId": "593e4bd2-f767-4b0a-e4e9-8bb4473b5591"
      },
      "execution_count": null,
      "outputs": [
        {
          "output_type": "stream",
          "name": "stdout",
          "text": [
            "Avaliação limpeza\n",
            "count    1103.000000\n",
            "mean        9.461469\n",
            "std         0.798201\n",
            "min         4.000000\n",
            "25%         9.000000\n",
            "50%        10.000000\n",
            "75%        10.000000\n",
            "max        10.000000\n",
            "Name: avaliacao_limpeza, dtype: float64\n",
            "-----------------------------\n",
            "Satisfação hospede\n",
            "count    1103.000000\n",
            "mean       94.362647\n",
            "std         6.089691\n",
            "min        20.000000\n",
            "25%        92.000000\n",
            "50%        96.000000\n",
            "75%        98.000000\n",
            "max       100.000000\n",
            "Name: satisfacao_hospede, dtype: float64\n"
          ]
        }
      ]
    },
    {
      "cell_type": "code",
      "source": [
        "# Filtro para menos de 50% de satisfação\n",
        "ft_baixa_satisfacao = (df['satisfacao_hospede'] <= 92)\n",
        "df.loc[ft_baixa_satisfacao]"
      ],
      "metadata": {
        "colab": {
          "base_uri": "https://localhost:8080/",
          "height": 661
        },
        "id": "hUEiNAuPEMtZ",
        "outputId": "94d949c1-104a-4e61-ebe2-bea314cc95e6"
      },
      "execution_count": null,
      "outputs": [
        {
          "output_type": "execute_result",
          "data": {
            "text/plain": [
              "      preco_total           tipo_quarto  capacidade_pessoas  \\\n",
              "1      344.245776        QUARTO PRIVADO                   4   \n",
              "2      264.101422        QUARTO PRIVADO                   2   \n",
              "3      433.529398        QUARTO PRIVADO                   4   \n",
              "9      276.521454        QUARTO PRIVADO                   2   \n",
              "12     675.602840      APT/CASA INTEIRA                   4   \n",
              "...           ...                   ...                 ...   \n",
              "1096   295.034331        QUARTO PRIVADO                   2   \n",
              "1099   233.637194        QUARTO PRIVADO                   2   \n",
              "1100   317.062311        QUARTO PRIVADO                   2   \n",
              "1101  1812.855904      APT/CASA INTEIRA                   4   \n",
              "1102   258.008577  QUARTO COMPARTILHADO                   2   \n",
              "\n",
              "      anfitriao_superhost  avaliacao_limpeza  satisfacao_hospede  \\\n",
              "1                   False                8.0                  85   \n",
              "2                   False                9.0                  87   \n",
              "3                   False                9.0                  90   \n",
              "9                   False               10.0                  88   \n",
              "12                  False                8.0                  87   \n",
              "...                   ...                ...                 ...   \n",
              "1096                False                8.0                  86   \n",
              "1099                False               10.0                  90   \n",
              "1100                False               10.0                  92   \n",
              "1101                False                8.0                  84   \n",
              "1102                False                8.0                  90   \n",
              "\n",
              "      quantidade_quartos  distancia_centro  metro_distancia  \\\n",
              "1                      1          0.488389         0.239404   \n",
              "2                      1          5.748312         3.651621   \n",
              "3                      2          0.384862         0.439876   \n",
              "9                      1          3.142361         0.924404   \n",
              "12                     1          2.933046         0.628073   \n",
              "...                  ...               ...              ...   \n",
              "1096                   1          4.880430         0.884337   \n",
              "1099                   1          4.719736         0.322263   \n",
              "1100                   1          0.598355         0.751993   \n",
              "1101                   5          1.943020         0.388532   \n",
              "1102                   1          0.280204         0.516217   \n",
              "\n",
              "      atracao_local_normalizado  restaurante_local_normalizado  longitude  \\\n",
              "1                     33.421209                      58.342928    4.90005   \n",
              "2                      3.985908                       6.646700    4.97512   \n",
              "3                     26.119108                      60.973565    4.89417   \n",
              "9                     10.921226                      16.604478    4.87600   \n",
              "12                    11.380334                      18.787851    4.88934   \n",
              "...                         ...                            ...        ...   \n",
              "1096                   5.683446                       9.246667    4.84422   \n",
              "1099                   5.719989                       9.391335    4.83611   \n",
              "1100                  23.323524                      43.616927    4.88897   \n",
              "1101                  13.658524                      23.454022    4.90688   \n",
              "1102                  28.273677                      56.267226    4.89295   \n",
              "\n",
              "      latitude  \n",
              "1     52.37432  \n",
              "2     52.36103  \n",
              "3     52.37663  \n",
              "9     52.34700  \n",
              "12    52.34697  \n",
              "...        ...  \n",
              "1096  52.34116  \n",
              "1099  52.34910  \n",
              "1100  52.37798  \n",
              "1101  52.35794  \n",
              "1102  52.37575  \n",
              "\n",
              "[292 rows x 13 columns]"
            ],
            "text/html": [
              "\n",
              "  <div id=\"df-c139b71f-8d64-4e5f-9bae-820b2008ee8f\">\n",
              "    <div class=\"colab-df-container\">\n",
              "      <div>\n",
              "<style scoped>\n",
              "    .dataframe tbody tr th:only-of-type {\n",
              "        vertical-align: middle;\n",
              "    }\n",
              "\n",
              "    .dataframe tbody tr th {\n",
              "        vertical-align: top;\n",
              "    }\n",
              "\n",
              "    .dataframe thead th {\n",
              "        text-align: right;\n",
              "    }\n",
              "</style>\n",
              "<table border=\"1\" class=\"dataframe\">\n",
              "  <thead>\n",
              "    <tr style=\"text-align: right;\">\n",
              "      <th></th>\n",
              "      <th>preco_total</th>\n",
              "      <th>tipo_quarto</th>\n",
              "      <th>capacidade_pessoas</th>\n",
              "      <th>anfitriao_superhost</th>\n",
              "      <th>avaliacao_limpeza</th>\n",
              "      <th>satisfacao_hospede</th>\n",
              "      <th>quantidade_quartos</th>\n",
              "      <th>distancia_centro</th>\n",
              "      <th>metro_distancia</th>\n",
              "      <th>atracao_local_normalizado</th>\n",
              "      <th>restaurante_local_normalizado</th>\n",
              "      <th>longitude</th>\n",
              "      <th>latitude</th>\n",
              "    </tr>\n",
              "  </thead>\n",
              "  <tbody>\n",
              "    <tr>\n",
              "      <th>1</th>\n",
              "      <td>344.245776</td>\n",
              "      <td>QUARTO PRIVADO</td>\n",
              "      <td>4</td>\n",
              "      <td>False</td>\n",
              "      <td>8.0</td>\n",
              "      <td>85</td>\n",
              "      <td>1</td>\n",
              "      <td>0.488389</td>\n",
              "      <td>0.239404</td>\n",
              "      <td>33.421209</td>\n",
              "      <td>58.342928</td>\n",
              "      <td>4.90005</td>\n",
              "      <td>52.37432</td>\n",
              "    </tr>\n",
              "    <tr>\n",
              "      <th>2</th>\n",
              "      <td>264.101422</td>\n",
              "      <td>QUARTO PRIVADO</td>\n",
              "      <td>2</td>\n",
              "      <td>False</td>\n",
              "      <td>9.0</td>\n",
              "      <td>87</td>\n",
              "      <td>1</td>\n",
              "      <td>5.748312</td>\n",
              "      <td>3.651621</td>\n",
              "      <td>3.985908</td>\n",
              "      <td>6.646700</td>\n",
              "      <td>4.97512</td>\n",
              "      <td>52.36103</td>\n",
              "    </tr>\n",
              "    <tr>\n",
              "      <th>3</th>\n",
              "      <td>433.529398</td>\n",
              "      <td>QUARTO PRIVADO</td>\n",
              "      <td>4</td>\n",
              "      <td>False</td>\n",
              "      <td>9.0</td>\n",
              "      <td>90</td>\n",
              "      <td>2</td>\n",
              "      <td>0.384862</td>\n",
              "      <td>0.439876</td>\n",
              "      <td>26.119108</td>\n",
              "      <td>60.973565</td>\n",
              "      <td>4.89417</td>\n",
              "      <td>52.37663</td>\n",
              "    </tr>\n",
              "    <tr>\n",
              "      <th>9</th>\n",
              "      <td>276.521454</td>\n",
              "      <td>QUARTO PRIVADO</td>\n",
              "      <td>2</td>\n",
              "      <td>False</td>\n",
              "      <td>10.0</td>\n",
              "      <td>88</td>\n",
              "      <td>1</td>\n",
              "      <td>3.142361</td>\n",
              "      <td>0.924404</td>\n",
              "      <td>10.921226</td>\n",
              "      <td>16.604478</td>\n",
              "      <td>4.87600</td>\n",
              "      <td>52.34700</td>\n",
              "    </tr>\n",
              "    <tr>\n",
              "      <th>12</th>\n",
              "      <td>675.602840</td>\n",
              "      <td>APT/CASA INTEIRA</td>\n",
              "      <td>4</td>\n",
              "      <td>False</td>\n",
              "      <td>8.0</td>\n",
              "      <td>87</td>\n",
              "      <td>1</td>\n",
              "      <td>2.933046</td>\n",
              "      <td>0.628073</td>\n",
              "      <td>11.380334</td>\n",
              "      <td>18.787851</td>\n",
              "      <td>4.88934</td>\n",
              "      <td>52.34697</td>\n",
              "    </tr>\n",
              "    <tr>\n",
              "      <th>...</th>\n",
              "      <td>...</td>\n",
              "      <td>...</td>\n",
              "      <td>...</td>\n",
              "      <td>...</td>\n",
              "      <td>...</td>\n",
              "      <td>...</td>\n",
              "      <td>...</td>\n",
              "      <td>...</td>\n",
              "      <td>...</td>\n",
              "      <td>...</td>\n",
              "      <td>...</td>\n",
              "      <td>...</td>\n",
              "      <td>...</td>\n",
              "    </tr>\n",
              "    <tr>\n",
              "      <th>1096</th>\n",
              "      <td>295.034331</td>\n",
              "      <td>QUARTO PRIVADO</td>\n",
              "      <td>2</td>\n",
              "      <td>False</td>\n",
              "      <td>8.0</td>\n",
              "      <td>86</td>\n",
              "      <td>1</td>\n",
              "      <td>4.880430</td>\n",
              "      <td>0.884337</td>\n",
              "      <td>5.683446</td>\n",
              "      <td>9.246667</td>\n",
              "      <td>4.84422</td>\n",
              "      <td>52.34116</td>\n",
              "    </tr>\n",
              "    <tr>\n",
              "      <th>1099</th>\n",
              "      <td>233.637194</td>\n",
              "      <td>QUARTO PRIVADO</td>\n",
              "      <td>2</td>\n",
              "      <td>False</td>\n",
              "      <td>10.0</td>\n",
              "      <td>90</td>\n",
              "      <td>1</td>\n",
              "      <td>4.719736</td>\n",
              "      <td>0.322263</td>\n",
              "      <td>5.719989</td>\n",
              "      <td>9.391335</td>\n",
              "      <td>4.83611</td>\n",
              "      <td>52.34910</td>\n",
              "    </tr>\n",
              "    <tr>\n",
              "      <th>1100</th>\n",
              "      <td>317.062311</td>\n",
              "      <td>QUARTO PRIVADO</td>\n",
              "      <td>2</td>\n",
              "      <td>False</td>\n",
              "      <td>10.0</td>\n",
              "      <td>92</td>\n",
              "      <td>1</td>\n",
              "      <td>0.598355</td>\n",
              "      <td>0.751993</td>\n",
              "      <td>23.323524</td>\n",
              "      <td>43.616927</td>\n",
              "      <td>4.88897</td>\n",
              "      <td>52.37798</td>\n",
              "    </tr>\n",
              "    <tr>\n",
              "      <th>1101</th>\n",
              "      <td>1812.855904</td>\n",
              "      <td>APT/CASA INTEIRA</td>\n",
              "      <td>4</td>\n",
              "      <td>False</td>\n",
              "      <td>8.0</td>\n",
              "      <td>84</td>\n",
              "      <td>5</td>\n",
              "      <td>1.943020</td>\n",
              "      <td>0.388532</td>\n",
              "      <td>13.658524</td>\n",
              "      <td>23.454022</td>\n",
              "      <td>4.90688</td>\n",
              "      <td>52.35794</td>\n",
              "    </tr>\n",
              "    <tr>\n",
              "      <th>1102</th>\n",
              "      <td>258.008577</td>\n",
              "      <td>QUARTO COMPARTILHADO</td>\n",
              "      <td>2</td>\n",
              "      <td>False</td>\n",
              "      <td>8.0</td>\n",
              "      <td>90</td>\n",
              "      <td>1</td>\n",
              "      <td>0.280204</td>\n",
              "      <td>0.516217</td>\n",
              "      <td>28.273677</td>\n",
              "      <td>56.267226</td>\n",
              "      <td>4.89295</td>\n",
              "      <td>52.37575</td>\n",
              "    </tr>\n",
              "  </tbody>\n",
              "</table>\n",
              "<p>292 rows × 13 columns</p>\n",
              "</div>\n",
              "      <button class=\"colab-df-convert\" onclick=\"convertToInteractive('df-c139b71f-8d64-4e5f-9bae-820b2008ee8f')\"\n",
              "              title=\"Convert this dataframe to an interactive table.\"\n",
              "              style=\"display:none;\">\n",
              "        \n",
              "  <svg xmlns=\"http://www.w3.org/2000/svg\" height=\"24px\"viewBox=\"0 0 24 24\"\n",
              "       width=\"24px\">\n",
              "    <path d=\"M0 0h24v24H0V0z\" fill=\"none\"/>\n",
              "    <path d=\"M18.56 5.44l.94 2.06.94-2.06 2.06-.94-2.06-.94-.94-2.06-.94 2.06-2.06.94zm-11 1L8.5 8.5l.94-2.06 2.06-.94-2.06-.94L8.5 2.5l-.94 2.06-2.06.94zm10 10l.94 2.06.94-2.06 2.06-.94-2.06-.94-.94-2.06-.94 2.06-2.06.94z\"/><path d=\"M17.41 7.96l-1.37-1.37c-.4-.4-.92-.59-1.43-.59-.52 0-1.04.2-1.43.59L10.3 9.45l-7.72 7.72c-.78.78-.78 2.05 0 2.83L4 21.41c.39.39.9.59 1.41.59.51 0 1.02-.2 1.41-.59l7.78-7.78 2.81-2.81c.8-.78.8-2.07 0-2.86zM5.41 20L4 18.59l7.72-7.72 1.47 1.35L5.41 20z\"/>\n",
              "  </svg>\n",
              "      </button>\n",
              "      \n",
              "  <style>\n",
              "    .colab-df-container {\n",
              "      display:flex;\n",
              "      flex-wrap:wrap;\n",
              "      gap: 12px;\n",
              "    }\n",
              "\n",
              "    .colab-df-convert {\n",
              "      background-color: #E8F0FE;\n",
              "      border: none;\n",
              "      border-radius: 50%;\n",
              "      cursor: pointer;\n",
              "      display: none;\n",
              "      fill: #1967D2;\n",
              "      height: 32px;\n",
              "      padding: 0 0 0 0;\n",
              "      width: 32px;\n",
              "    }\n",
              "\n",
              "    .colab-df-convert:hover {\n",
              "      background-color: #E2EBFA;\n",
              "      box-shadow: 0px 1px 2px rgba(60, 64, 67, 0.3), 0px 1px 3px 1px rgba(60, 64, 67, 0.15);\n",
              "      fill: #174EA6;\n",
              "    }\n",
              "\n",
              "    [theme=dark] .colab-df-convert {\n",
              "      background-color: #3B4455;\n",
              "      fill: #D2E3FC;\n",
              "    }\n",
              "\n",
              "    [theme=dark] .colab-df-convert:hover {\n",
              "      background-color: #434B5C;\n",
              "      box-shadow: 0px 1px 3px 1px rgba(0, 0, 0, 0.15);\n",
              "      filter: drop-shadow(0px 1px 2px rgba(0, 0, 0, 0.3));\n",
              "      fill: #FFFFFF;\n",
              "    }\n",
              "  </style>\n",
              "\n",
              "      <script>\n",
              "        const buttonEl =\n",
              "          document.querySelector('#df-c139b71f-8d64-4e5f-9bae-820b2008ee8f button.colab-df-convert');\n",
              "        buttonEl.style.display =\n",
              "          google.colab.kernel.accessAllowed ? 'block' : 'none';\n",
              "\n",
              "        async function convertToInteractive(key) {\n",
              "          const element = document.querySelector('#df-c139b71f-8d64-4e5f-9bae-820b2008ee8f');\n",
              "          const dataTable =\n",
              "            await google.colab.kernel.invokeFunction('convertToInteractive',\n",
              "                                                     [key], {});\n",
              "          if (!dataTable) return;\n",
              "\n",
              "          const docLinkHtml = 'Like what you see? Visit the ' +\n",
              "            '<a target=\"_blank\" href=https://colab.research.google.com/notebooks/data_table.ipynb>data table notebook</a>'\n",
              "            + ' to learn more about interactive tables.';\n",
              "          element.innerHTML = '';\n",
              "          dataTable['output_type'] = 'display_data';\n",
              "          await google.colab.output.renderOutput(dataTable, element);\n",
              "          const docLink = document.createElement('div');\n",
              "          docLink.innerHTML = docLinkHtml;\n",
              "          element.appendChild(docLink);\n",
              "        }\n",
              "      </script>\n",
              "    </div>\n",
              "  </div>\n",
              "  "
            ]
          },
          "metadata": {},
          "execution_count": 51
        }
      ]
    },
    {
      "cell_type": "code",
      "source": [
        "# Filtro para mais de 70% de satisfação\n",
        "ft_alta_satisfacao = (df.satisfacao_hospede >= 98)\n",
        "df.loc[ft_alta_satisfacao]"
      ],
      "metadata": {
        "colab": {
          "base_uri": "https://localhost:8080/",
          "height": 661
        },
        "id": "xRsNqlnUEMtY",
        "outputId": "8720fa18-8b18-4870-cd6c-58b27f13aa6e"
      },
      "execution_count": null,
      "outputs": [
        {
          "output_type": "execute_result",
          "data": {
            "text/plain": [
              "      preco_total       tipo_quarto  capacidade_pessoas  anfitriao_superhost  \\\n",
              "4      485.552926    QUARTO PRIVADO                   2                 True   \n",
              "5      552.808567    QUARTO PRIVADO                   3                False   \n",
              "7     2771.307384  APT/CASA INTEIRA                   4                 True   \n",
              "13     552.808567  APT/CASA INTEIRA                   2                 True   \n",
              "15     368.851499    QUARTO PRIVADO                   2                 True   \n",
              "...           ...               ...                 ...                  ...   \n",
              "1084   768.167225  APT/CASA INTEIRA                   4                False   \n",
              "1086   276.287114  APT/CASA INTEIRA                   2                 True   \n",
              "1092   792.772948  APT/CASA INTEIRA                   4                 True   \n",
              "1094   228.716050    QUARTO PRIVADO                   3                 True   \n",
              "1098  2486.115342  APT/CASA INTEIRA                   2                False   \n",
              "\n",
              "      avaliacao_limpeza  satisfacao_hospede  quantidade_quartos  \\\n",
              "4                  10.0                  98                   1   \n",
              "5                   8.0                 100                   2   \n",
              "7                  10.0                 100                   3   \n",
              "13                 10.0                 100                   1   \n",
              "15                 10.0                  98                   1   \n",
              "...                 ...                 ...                 ...   \n",
              "1084               10.0                  98                   3   \n",
              "1086               10.0                  98                   1   \n",
              "1092               10.0                  98                   2   \n",
              "1094               10.0                  98                   1   \n",
              "1098               10.0                 100                   1   \n",
              "\n",
              "      distancia_centro  metro_distancia  atracao_local_normalizado  \\\n",
              "4             0.544738         0.318693                  29.272733   \n",
              "5             2.131420         1.904668                   9.255191   \n",
              "7             1.686807         1.458404                  11.056528   \n",
              "13            1.305494         1.342162                  17.222519   \n",
              "15            1.031101         0.557885                  19.058105   \n",
              "...                ...              ...                        ...   \n",
              "1084          3.609860         2.013256                   5.636743   \n",
              "1086          3.839556         0.754154                   7.915598   \n",
              "1092          1.360556         0.466626                  19.083111   \n",
              "1094          7.628766         2.927773                   3.271936   \n",
              "1098          2.375833         1.436054                   9.594573   \n",
              "\n",
              "      restaurante_local_normalizado  longitude  latitude  \n",
              "4                         56.811677    4.90051  52.37508  \n",
              "5                         15.692376    4.87699  52.38966  \n",
              "7                         18.975219    4.88467  52.38749  \n",
              "13                        27.239314    4.87417  52.37509  \n",
              "15                        30.656388    4.90809  52.37455  \n",
              "...                             ...        ...       ...  \n",
              "1084                       9.357386    4.90317  52.40509  \n",
              "1086                      12.995131    4.86004  52.34528  \n",
              "1092                      32.806557    4.90100  52.36200  \n",
              "1094                       5.328303    4.79162  52.34422  \n",
              "1098                      15.699521    4.85869  52.37677  \n",
              "\n",
              "[377 rows x 13 columns]"
            ],
            "text/html": [
              "\n",
              "  <div id=\"df-8356baed-306f-42ff-a288-6be00fbd0894\">\n",
              "    <div class=\"colab-df-container\">\n",
              "      <div>\n",
              "<style scoped>\n",
              "    .dataframe tbody tr th:only-of-type {\n",
              "        vertical-align: middle;\n",
              "    }\n",
              "\n",
              "    .dataframe tbody tr th {\n",
              "        vertical-align: top;\n",
              "    }\n",
              "\n",
              "    .dataframe thead th {\n",
              "        text-align: right;\n",
              "    }\n",
              "</style>\n",
              "<table border=\"1\" class=\"dataframe\">\n",
              "  <thead>\n",
              "    <tr style=\"text-align: right;\">\n",
              "      <th></th>\n",
              "      <th>preco_total</th>\n",
              "      <th>tipo_quarto</th>\n",
              "      <th>capacidade_pessoas</th>\n",
              "      <th>anfitriao_superhost</th>\n",
              "      <th>avaliacao_limpeza</th>\n",
              "      <th>satisfacao_hospede</th>\n",
              "      <th>quantidade_quartos</th>\n",
              "      <th>distancia_centro</th>\n",
              "      <th>metro_distancia</th>\n",
              "      <th>atracao_local_normalizado</th>\n",
              "      <th>restaurante_local_normalizado</th>\n",
              "      <th>longitude</th>\n",
              "      <th>latitude</th>\n",
              "    </tr>\n",
              "  </thead>\n",
              "  <tbody>\n",
              "    <tr>\n",
              "      <th>4</th>\n",
              "      <td>485.552926</td>\n",
              "      <td>QUARTO PRIVADO</td>\n",
              "      <td>2</td>\n",
              "      <td>True</td>\n",
              "      <td>10.0</td>\n",
              "      <td>98</td>\n",
              "      <td>1</td>\n",
              "      <td>0.544738</td>\n",
              "      <td>0.318693</td>\n",
              "      <td>29.272733</td>\n",
              "      <td>56.811677</td>\n",
              "      <td>4.90051</td>\n",
              "      <td>52.37508</td>\n",
              "    </tr>\n",
              "    <tr>\n",
              "      <th>5</th>\n",
              "      <td>552.808567</td>\n",
              "      <td>QUARTO PRIVADO</td>\n",
              "      <td>3</td>\n",
              "      <td>False</td>\n",
              "      <td>8.0</td>\n",
              "      <td>100</td>\n",
              "      <td>2</td>\n",
              "      <td>2.131420</td>\n",
              "      <td>1.904668</td>\n",
              "      <td>9.255191</td>\n",
              "      <td>15.692376</td>\n",
              "      <td>4.87699</td>\n",
              "      <td>52.38966</td>\n",
              "    </tr>\n",
              "    <tr>\n",
              "      <th>7</th>\n",
              "      <td>2771.307384</td>\n",
              "      <td>APT/CASA INTEIRA</td>\n",
              "      <td>4</td>\n",
              "      <td>True</td>\n",
              "      <td>10.0</td>\n",
              "      <td>100</td>\n",
              "      <td>3</td>\n",
              "      <td>1.686807</td>\n",
              "      <td>1.458404</td>\n",
              "      <td>11.056528</td>\n",
              "      <td>18.975219</td>\n",
              "      <td>4.88467</td>\n",
              "      <td>52.38749</td>\n",
              "    </tr>\n",
              "    <tr>\n",
              "      <th>13</th>\n",
              "      <td>552.808567</td>\n",
              "      <td>APT/CASA INTEIRA</td>\n",
              "      <td>2</td>\n",
              "      <td>True</td>\n",
              "      <td>10.0</td>\n",
              "      <td>100</td>\n",
              "      <td>1</td>\n",
              "      <td>1.305494</td>\n",
              "      <td>1.342162</td>\n",
              "      <td>17.222519</td>\n",
              "      <td>27.239314</td>\n",
              "      <td>4.87417</td>\n",
              "      <td>52.37509</td>\n",
              "    </tr>\n",
              "    <tr>\n",
              "      <th>15</th>\n",
              "      <td>368.851499</td>\n",
              "      <td>QUARTO PRIVADO</td>\n",
              "      <td>2</td>\n",
              "      <td>True</td>\n",
              "      <td>10.0</td>\n",
              "      <td>98</td>\n",
              "      <td>1</td>\n",
              "      <td>1.031101</td>\n",
              "      <td>0.557885</td>\n",
              "      <td>19.058105</td>\n",
              "      <td>30.656388</td>\n",
              "      <td>4.90809</td>\n",
              "      <td>52.37455</td>\n",
              "    </tr>\n",
              "    <tr>\n",
              "      <th>...</th>\n",
              "      <td>...</td>\n",
              "      <td>...</td>\n",
              "      <td>...</td>\n",
              "      <td>...</td>\n",
              "      <td>...</td>\n",
              "      <td>...</td>\n",
              "      <td>...</td>\n",
              "      <td>...</td>\n",
              "      <td>...</td>\n",
              "      <td>...</td>\n",
              "      <td>...</td>\n",
              "      <td>...</td>\n",
              "      <td>...</td>\n",
              "    </tr>\n",
              "    <tr>\n",
              "      <th>1084</th>\n",
              "      <td>768.167225</td>\n",
              "      <td>APT/CASA INTEIRA</td>\n",
              "      <td>4</td>\n",
              "      <td>False</td>\n",
              "      <td>10.0</td>\n",
              "      <td>98</td>\n",
              "      <td>3</td>\n",
              "      <td>3.609860</td>\n",
              "      <td>2.013256</td>\n",
              "      <td>5.636743</td>\n",
              "      <td>9.357386</td>\n",
              "      <td>4.90317</td>\n",
              "      <td>52.40509</td>\n",
              "    </tr>\n",
              "    <tr>\n",
              "      <th>1086</th>\n",
              "      <td>276.287114</td>\n",
              "      <td>APT/CASA INTEIRA</td>\n",
              "      <td>2</td>\n",
              "      <td>True</td>\n",
              "      <td>10.0</td>\n",
              "      <td>98</td>\n",
              "      <td>1</td>\n",
              "      <td>3.839556</td>\n",
              "      <td>0.754154</td>\n",
              "      <td>7.915598</td>\n",
              "      <td>12.995131</td>\n",
              "      <td>4.86004</td>\n",
              "      <td>52.34528</td>\n",
              "    </tr>\n",
              "    <tr>\n",
              "      <th>1092</th>\n",
              "      <td>792.772948</td>\n",
              "      <td>APT/CASA INTEIRA</td>\n",
              "      <td>4</td>\n",
              "      <td>True</td>\n",
              "      <td>10.0</td>\n",
              "      <td>98</td>\n",
              "      <td>2</td>\n",
              "      <td>1.360556</td>\n",
              "      <td>0.466626</td>\n",
              "      <td>19.083111</td>\n",
              "      <td>32.806557</td>\n",
              "      <td>4.90100</td>\n",
              "      <td>52.36200</td>\n",
              "    </tr>\n",
              "    <tr>\n",
              "      <th>1094</th>\n",
              "      <td>228.716050</td>\n",
              "      <td>QUARTO PRIVADO</td>\n",
              "      <td>3</td>\n",
              "      <td>True</td>\n",
              "      <td>10.0</td>\n",
              "      <td>98</td>\n",
              "      <td>1</td>\n",
              "      <td>7.628766</td>\n",
              "      <td>2.927773</td>\n",
              "      <td>3.271936</td>\n",
              "      <td>5.328303</td>\n",
              "      <td>4.79162</td>\n",
              "      <td>52.34422</td>\n",
              "    </tr>\n",
              "    <tr>\n",
              "      <th>1098</th>\n",
              "      <td>2486.115342</td>\n",
              "      <td>APT/CASA INTEIRA</td>\n",
              "      <td>2</td>\n",
              "      <td>False</td>\n",
              "      <td>10.0</td>\n",
              "      <td>100</td>\n",
              "      <td>1</td>\n",
              "      <td>2.375833</td>\n",
              "      <td>1.436054</td>\n",
              "      <td>9.594573</td>\n",
              "      <td>15.699521</td>\n",
              "      <td>4.85869</td>\n",
              "      <td>52.37677</td>\n",
              "    </tr>\n",
              "  </tbody>\n",
              "</table>\n",
              "<p>377 rows × 13 columns</p>\n",
              "</div>\n",
              "      <button class=\"colab-df-convert\" onclick=\"convertToInteractive('df-8356baed-306f-42ff-a288-6be00fbd0894')\"\n",
              "              title=\"Convert this dataframe to an interactive table.\"\n",
              "              style=\"display:none;\">\n",
              "        \n",
              "  <svg xmlns=\"http://www.w3.org/2000/svg\" height=\"24px\"viewBox=\"0 0 24 24\"\n",
              "       width=\"24px\">\n",
              "    <path d=\"M0 0h24v24H0V0z\" fill=\"none\"/>\n",
              "    <path d=\"M18.56 5.44l.94 2.06.94-2.06 2.06-.94-2.06-.94-.94-2.06-.94 2.06-2.06.94zm-11 1L8.5 8.5l.94-2.06 2.06-.94-2.06-.94L8.5 2.5l-.94 2.06-2.06.94zm10 10l.94 2.06.94-2.06 2.06-.94-2.06-.94-.94-2.06-.94 2.06-2.06.94z\"/><path d=\"M17.41 7.96l-1.37-1.37c-.4-.4-.92-.59-1.43-.59-.52 0-1.04.2-1.43.59L10.3 9.45l-7.72 7.72c-.78.78-.78 2.05 0 2.83L4 21.41c.39.39.9.59 1.41.59.51 0 1.02-.2 1.41-.59l7.78-7.78 2.81-2.81c.8-.78.8-2.07 0-2.86zM5.41 20L4 18.59l7.72-7.72 1.47 1.35L5.41 20z\"/>\n",
              "  </svg>\n",
              "      </button>\n",
              "      \n",
              "  <style>\n",
              "    .colab-df-container {\n",
              "      display:flex;\n",
              "      flex-wrap:wrap;\n",
              "      gap: 12px;\n",
              "    }\n",
              "\n",
              "    .colab-df-convert {\n",
              "      background-color: #E8F0FE;\n",
              "      border: none;\n",
              "      border-radius: 50%;\n",
              "      cursor: pointer;\n",
              "      display: none;\n",
              "      fill: #1967D2;\n",
              "      height: 32px;\n",
              "      padding: 0 0 0 0;\n",
              "      width: 32px;\n",
              "    }\n",
              "\n",
              "    .colab-df-convert:hover {\n",
              "      background-color: #E2EBFA;\n",
              "      box-shadow: 0px 1px 2px rgba(60, 64, 67, 0.3), 0px 1px 3px 1px rgba(60, 64, 67, 0.15);\n",
              "      fill: #174EA6;\n",
              "    }\n",
              "\n",
              "    [theme=dark] .colab-df-convert {\n",
              "      background-color: #3B4455;\n",
              "      fill: #D2E3FC;\n",
              "    }\n",
              "\n",
              "    [theme=dark] .colab-df-convert:hover {\n",
              "      background-color: #434B5C;\n",
              "      box-shadow: 0px 1px 3px 1px rgba(0, 0, 0, 0.15);\n",
              "      filter: drop-shadow(0px 1px 2px rgba(0, 0, 0, 0.3));\n",
              "      fill: #FFFFFF;\n",
              "    }\n",
              "  </style>\n",
              "\n",
              "      <script>\n",
              "        const buttonEl =\n",
              "          document.querySelector('#df-8356baed-306f-42ff-a288-6be00fbd0894 button.colab-df-convert');\n",
              "        buttonEl.style.display =\n",
              "          google.colab.kernel.accessAllowed ? 'block' : 'none';\n",
              "\n",
              "        async function convertToInteractive(key) {\n",
              "          const element = document.querySelector('#df-8356baed-306f-42ff-a288-6be00fbd0894');\n",
              "          const dataTable =\n",
              "            await google.colab.kernel.invokeFunction('convertToInteractive',\n",
              "                                                     [key], {});\n",
              "          if (!dataTable) return;\n",
              "\n",
              "          const docLinkHtml = 'Like what you see? Visit the ' +\n",
              "            '<a target=\"_blank\" href=https://colab.research.google.com/notebooks/data_table.ipynb>data table notebook</a>'\n",
              "            + ' to learn more about interactive tables.';\n",
              "          element.innerHTML = '';\n",
              "          dataTable['output_type'] = 'display_data';\n",
              "          await google.colab.output.renderOutput(dataTable, element);\n",
              "          const docLink = document.createElement('div');\n",
              "          docLink.innerHTML = docLinkHtml;\n",
              "          element.appendChild(docLink);\n",
              "        }\n",
              "      </script>\n",
              "    </div>\n",
              "  </div>\n",
              "  "
            ]
          },
          "metadata": {},
          "execution_count": 52
        }
      ]
    },
    {
      "cell_type": "markdown",
      "source": [
        "Capacidade de pessoas"
      ],
      "metadata": {
        "id": "5HcN1e5PJtGz"
      }
    },
    {
      "cell_type": "code",
      "source": [
        "# Verificando os valores minimo e maximo da capacidade de pessoas\n",
        "df.capacidade_pessoas.agg(['min', 'max'])"
      ],
      "metadata": {
        "colab": {
          "base_uri": "https://localhost:8080/"
        },
        "id": "5gVXsL6kLJp8",
        "outputId": "6fd4c67f-9e78-48ab-bcf3-54e071213a73"
      },
      "execution_count": null,
      "outputs": [
        {
          "output_type": "execute_result",
          "data": {
            "text/plain": [
              "min    2\n",
              "max    6\n",
              "Name: capacidade_pessoas, dtype: int64"
            ]
          },
          "metadata": {},
          "execution_count": 55
        }
      ]
    },
    {
      "cell_type": "code",
      "source": [
        "# Contagem de cada valor na coluna\n",
        "df.capacidade_pessoas.value_counts().sort_index()"
      ],
      "metadata": {
        "colab": {
          "base_uri": "https://localhost:8080/"
        },
        "id": "z0j_jVqcMnGc",
        "outputId": "81650e5c-507c-487a-a029-6d7729aa1227"
      },
      "execution_count": null,
      "outputs": [
        {
          "output_type": "execute_result",
          "data": {
            "text/plain": [
              "2    656\n",
              "3     79\n",
              "4    333\n",
              "5     11\n",
              "6     24\n",
              "Name: capacidade_pessoas, dtype: int64"
            ]
          },
          "metadata": {},
          "execution_count": 56
        }
      ]
    },
    {
      "cell_type": "code",
      "source": [
        "# Estatisticas gerais\n",
        "df.capacidade_pessoas.describe().round(2)"
      ],
      "metadata": {
        "colab": {
          "base_uri": "https://localhost:8080/"
        },
        "id": "8QEVVqWCNAMk",
        "outputId": "bc5f1666-8ee8-4fa1-e679-3b75db4cb5e0"
      },
      "execution_count": null,
      "outputs": [
        {
          "output_type": "execute_result",
          "data": {
            "text/plain": [
              "count    1103.00\n",
              "mean        2.79\n",
              "std         1.04\n",
              "min         2.00\n",
              "25%         2.00\n",
              "50%         2.00\n",
              "75%         4.00\n",
              "max         6.00\n",
              "Name: capacidade_pessoas, dtype: float64"
            ]
          },
          "metadata": {},
          "execution_count": 57
        }
      ]
    },
    {
      "cell_type": "code",
      "source": [
        "# Verificando o valor que mais se repete\n",
        "df.capacidade_pessoas.mode()"
      ],
      "metadata": {
        "colab": {
          "base_uri": "https://localhost:8080/"
        },
        "id": "dbcOu1QPM1qM",
        "outputId": "89533f0a-1dbd-4265-b58c-e77653ab9df0"
      },
      "execution_count": null,
      "outputs": [
        {
          "output_type": "execute_result",
          "data": {
            "text/plain": [
              "0    2\n",
              "Name: capacidade_pessoas, dtype: int64"
            ]
          },
          "metadata": {},
          "execution_count": 58
        }
      ]
    },
    {
      "cell_type": "code",
      "source": [
        "# Correlação entre capacidade de pessoas e o preço total das listagens\n",
        "df['capacidade_pessoas'].corr(df['preco_total']).round(2)"
      ],
      "metadata": {
        "colab": {
          "base_uri": "https://localhost:8080/"
        },
        "id": "fnojakuINf6b",
        "outputId": "2f4ac1ab-9328-4848-ab0a-d564eb98c00b"
      },
      "execution_count": null,
      "outputs": [
        {
          "output_type": "execute_result",
          "data": {
            "text/plain": [
              "0.53"
            ]
          },
          "metadata": {},
          "execution_count": 59
        }
      ]
    },
    {
      "cell_type": "code",
      "source": [
        "# Examinando a comparação da capacidade de pessoas com algumas estatisticas de preço total\n",
        "estatisticas_capacidade = df.groupby('capacidade_pessoas').agg({'preco_total': ['mean', 'median', 'count']})\n",
        "estatisticas_capacidade.round(2)"
      ],
      "metadata": {
        "colab": {
          "base_uri": "https://localhost:8080/",
          "height": 269
        },
        "id": "WBQOGxZ_SCSk",
        "outputId": "8faab347-f9aa-49c8-82ec-5b901d30ade4"
      },
      "execution_count": null,
      "outputs": [
        {
          "output_type": "execute_result",
          "data": {
            "text/plain": [
              "                   preco_total               \n",
              "                          mean   median count\n",
              "capacidade_pessoas                           \n",
              "2                       393.69   350.10   656\n",
              "3                       524.10   467.04    79\n",
              "4                       760.11   685.91   333\n",
              "5                      1087.13   823.47    11\n",
              "6                      1517.55  1274.11    24"
            ],
            "text/html": [
              "\n",
              "  <div id=\"df-73fa61d4-0421-4005-bf4f-a24cf9f5da71\">\n",
              "    <div class=\"colab-df-container\">\n",
              "      <div>\n",
              "<style scoped>\n",
              "    .dataframe tbody tr th:only-of-type {\n",
              "        vertical-align: middle;\n",
              "    }\n",
              "\n",
              "    .dataframe tbody tr th {\n",
              "        vertical-align: top;\n",
              "    }\n",
              "\n",
              "    .dataframe thead tr th {\n",
              "        text-align: left;\n",
              "    }\n",
              "\n",
              "    .dataframe thead tr:last-of-type th {\n",
              "        text-align: right;\n",
              "    }\n",
              "</style>\n",
              "<table border=\"1\" class=\"dataframe\">\n",
              "  <thead>\n",
              "    <tr>\n",
              "      <th></th>\n",
              "      <th colspan=\"3\" halign=\"left\">preco_total</th>\n",
              "    </tr>\n",
              "    <tr>\n",
              "      <th></th>\n",
              "      <th>mean</th>\n",
              "      <th>median</th>\n",
              "      <th>count</th>\n",
              "    </tr>\n",
              "    <tr>\n",
              "      <th>capacidade_pessoas</th>\n",
              "      <th></th>\n",
              "      <th></th>\n",
              "      <th></th>\n",
              "    </tr>\n",
              "  </thead>\n",
              "  <tbody>\n",
              "    <tr>\n",
              "      <th>2</th>\n",
              "      <td>393.69</td>\n",
              "      <td>350.10</td>\n",
              "      <td>656</td>\n",
              "    </tr>\n",
              "    <tr>\n",
              "      <th>3</th>\n",
              "      <td>524.10</td>\n",
              "      <td>467.04</td>\n",
              "      <td>79</td>\n",
              "    </tr>\n",
              "    <tr>\n",
              "      <th>4</th>\n",
              "      <td>760.11</td>\n",
              "      <td>685.91</td>\n",
              "      <td>333</td>\n",
              "    </tr>\n",
              "    <tr>\n",
              "      <th>5</th>\n",
              "      <td>1087.13</td>\n",
              "      <td>823.47</td>\n",
              "      <td>11</td>\n",
              "    </tr>\n",
              "    <tr>\n",
              "      <th>6</th>\n",
              "      <td>1517.55</td>\n",
              "      <td>1274.11</td>\n",
              "      <td>24</td>\n",
              "    </tr>\n",
              "  </tbody>\n",
              "</table>\n",
              "</div>\n",
              "      <button class=\"colab-df-convert\" onclick=\"convertToInteractive('df-73fa61d4-0421-4005-bf4f-a24cf9f5da71')\"\n",
              "              title=\"Convert this dataframe to an interactive table.\"\n",
              "              style=\"display:none;\">\n",
              "        \n",
              "  <svg xmlns=\"http://www.w3.org/2000/svg\" height=\"24px\"viewBox=\"0 0 24 24\"\n",
              "       width=\"24px\">\n",
              "    <path d=\"M0 0h24v24H0V0z\" fill=\"none\"/>\n",
              "    <path d=\"M18.56 5.44l.94 2.06.94-2.06 2.06-.94-2.06-.94-.94-2.06-.94 2.06-2.06.94zm-11 1L8.5 8.5l.94-2.06 2.06-.94-2.06-.94L8.5 2.5l-.94 2.06-2.06.94zm10 10l.94 2.06.94-2.06 2.06-.94-2.06-.94-.94-2.06-.94 2.06-2.06.94z\"/><path d=\"M17.41 7.96l-1.37-1.37c-.4-.4-.92-.59-1.43-.59-.52 0-1.04.2-1.43.59L10.3 9.45l-7.72 7.72c-.78.78-.78 2.05 0 2.83L4 21.41c.39.39.9.59 1.41.59.51 0 1.02-.2 1.41-.59l7.78-7.78 2.81-2.81c.8-.78.8-2.07 0-2.86zM5.41 20L4 18.59l7.72-7.72 1.47 1.35L5.41 20z\"/>\n",
              "  </svg>\n",
              "      </button>\n",
              "      \n",
              "  <style>\n",
              "    .colab-df-container {\n",
              "      display:flex;\n",
              "      flex-wrap:wrap;\n",
              "      gap: 12px;\n",
              "    }\n",
              "\n",
              "    .colab-df-convert {\n",
              "      background-color: #E8F0FE;\n",
              "      border: none;\n",
              "      border-radius: 50%;\n",
              "      cursor: pointer;\n",
              "      display: none;\n",
              "      fill: #1967D2;\n",
              "      height: 32px;\n",
              "      padding: 0 0 0 0;\n",
              "      width: 32px;\n",
              "    }\n",
              "\n",
              "    .colab-df-convert:hover {\n",
              "      background-color: #E2EBFA;\n",
              "      box-shadow: 0px 1px 2px rgba(60, 64, 67, 0.3), 0px 1px 3px 1px rgba(60, 64, 67, 0.15);\n",
              "      fill: #174EA6;\n",
              "    }\n",
              "\n",
              "    [theme=dark] .colab-df-convert {\n",
              "      background-color: #3B4455;\n",
              "      fill: #D2E3FC;\n",
              "    }\n",
              "\n",
              "    [theme=dark] .colab-df-convert:hover {\n",
              "      background-color: #434B5C;\n",
              "      box-shadow: 0px 1px 3px 1px rgba(0, 0, 0, 0.15);\n",
              "      filter: drop-shadow(0px 1px 2px rgba(0, 0, 0, 0.3));\n",
              "      fill: #FFFFFF;\n",
              "    }\n",
              "  </style>\n",
              "\n",
              "      <script>\n",
              "        const buttonEl =\n",
              "          document.querySelector('#df-73fa61d4-0421-4005-bf4f-a24cf9f5da71 button.colab-df-convert');\n",
              "        buttonEl.style.display =\n",
              "          google.colab.kernel.accessAllowed ? 'block' : 'none';\n",
              "\n",
              "        async function convertToInteractive(key) {\n",
              "          const element = document.querySelector('#df-73fa61d4-0421-4005-bf4f-a24cf9f5da71');\n",
              "          const dataTable =\n",
              "            await google.colab.kernel.invokeFunction('convertToInteractive',\n",
              "                                                     [key], {});\n",
              "          if (!dataTable) return;\n",
              "\n",
              "          const docLinkHtml = 'Like what you see? Visit the ' +\n",
              "            '<a target=\"_blank\" href=https://colab.research.google.com/notebooks/data_table.ipynb>data table notebook</a>'\n",
              "            + ' to learn more about interactive tables.';\n",
              "          element.innerHTML = '';\n",
              "          dataTable['output_type'] = 'display_data';\n",
              "          await google.colab.output.renderOutput(dataTable, element);\n",
              "          const docLink = document.createElement('div');\n",
              "          docLink.innerHTML = docLinkHtml;\n",
              "          element.appendChild(docLink);\n",
              "        }\n",
              "      </script>\n",
              "    </div>\n",
              "  </div>\n",
              "  "
            ]
          },
          "metadata": {},
          "execution_count": 60
        }
      ]
    },
    {
      "cell_type": "markdown",
      "source": [
        "Distancia do Centro"
      ],
      "metadata": {
        "id": "VVZelqK6LK6e"
      }
    },
    {
      "cell_type": "code",
      "source": [
        "# Estatisticas gerais sobre distancia do centro\n",
        "df.distancia_centro.describe().round(2)"
      ],
      "metadata": {
        "colab": {
          "base_uri": "https://localhost:8080/"
        },
        "id": "9ANs_6VuVCfV",
        "outputId": "8a543b89-5189-4b63-8ba4-f35046462f20"
      },
      "execution_count": null,
      "outputs": [
        {
          "output_type": "execute_result",
          "data": {
            "text/plain": [
              "count    1103.00\n",
              "mean        2.84\n",
              "std         2.12\n",
              "min         0.02\n",
              "25%         1.30\n",
              "50%         2.34\n",
              "75%         3.65\n",
              "max        11.19\n",
              "Name: distancia_centro, dtype: float64"
            ]
          },
          "metadata": {},
          "execution_count": 61
        }
      ]
    },
    {
      "cell_type": "code",
      "source": [
        "# Filtro por distância menor ou igual a 3\n",
        "filtro_distancia = (df.distancia_centro <= 3)\n",
        "df.loc[filtro_distancia]"
      ],
      "metadata": {
        "colab": {
          "base_uri": "https://localhost:8080/",
          "height": 661
        },
        "id": "goLOyJmPVwUb",
        "outputId": "e23e2c5a-5816-438f-c702-4cb4723e4130"
      },
      "execution_count": null,
      "outputs": [
        {
          "output_type": "execute_result",
          "data": {
            "text/plain": [
              "      preco_total           tipo_quarto  capacidade_pessoas  \\\n",
              "1      344.245776        QUARTO PRIVADO                   4   \n",
              "3      433.529398        QUARTO PRIVADO                   4   \n",
              "4      485.552926        QUARTO PRIVADO                   2   \n",
              "5      552.808567        QUARTO PRIVADO                   3   \n",
              "6      215.124317        QUARTO PRIVADO                   2   \n",
              "...           ...                   ...                 ...   \n",
              "1097   356.197127        QUARTO PRIVADO                   4   \n",
              "1098  2486.115342      APT/CASA INTEIRA                   2   \n",
              "1100   317.062311        QUARTO PRIVADO                   2   \n",
              "1101  1812.855904      APT/CASA INTEIRA                   4   \n",
              "1102   258.008577  QUARTO COMPARTILHADO                   2   \n",
              "\n",
              "      anfitriao_superhost  avaliacao_limpeza  satisfacao_hospede  \\\n",
              "1                   False                8.0                  85   \n",
              "3                   False                9.0                  90   \n",
              "4                    True               10.0                  98   \n",
              "5                   False                8.0                 100   \n",
              "6                   False               10.0                  94   \n",
              "...                   ...                ...                 ...   \n",
              "1097                 True               10.0                  95   \n",
              "1098                False               10.0                 100   \n",
              "1100                False               10.0                  92   \n",
              "1101                False                8.0                  84   \n",
              "1102                False                8.0                  90   \n",
              "\n",
              "      quantidade_quartos  distancia_centro  metro_distancia  \\\n",
              "1                      1          0.488389         0.239404   \n",
              "3                      2          0.384862         0.439876   \n",
              "4                      1          0.544738         0.318693   \n",
              "5                      2          2.131420         1.904668   \n",
              "6                      1          1.881092         0.729747   \n",
              "...                  ...               ...              ...   \n",
              "1097                   1          2.169253         0.212113   \n",
              "1098                   1          2.375833         1.436054   \n",
              "1100                   1          0.598355         0.751993   \n",
              "1101                   5          1.943020         0.388532   \n",
              "1102                   1          0.280204         0.516217   \n",
              "\n",
              "      atracao_local_normalizado  restaurante_local_normalizado  longitude  \\\n",
              "1                     33.421209                      58.342928    4.90005   \n",
              "3                     26.119108                      60.973565    4.89417   \n",
              "4                     29.272733                      56.811677    4.90051   \n",
              "5                      9.255191                      15.692376    4.87699   \n",
              "6                     10.599010                      16.916251    4.91570   \n",
              "...                         ...                            ...        ...   \n",
              "1097                  11.883906                      20.332049    4.91118   \n",
              "1098                   9.594573                      15.699521    4.85869   \n",
              "1100                  23.323524                      43.616927    4.88897   \n",
              "1101                  13.658524                      23.454022    4.90688   \n",
              "1102                  28.273677                      56.267226    4.89295   \n",
              "\n",
              "      latitude  \n",
              "1     52.37432  \n",
              "3     52.37663  \n",
              "4     52.37508  \n",
              "5     52.38966  \n",
              "6     52.38296  \n",
              "...        ...  \n",
              "1097  52.35718  \n",
              "1098  52.37677  \n",
              "1100  52.37798  \n",
              "1101  52.35794  \n",
              "1102  52.37575  \n",
              "\n",
              "[695 rows x 13 columns]"
            ],
            "text/html": [
              "\n",
              "  <div id=\"df-7c3f33fe-ca96-4a11-91ed-0d483e14f489\">\n",
              "    <div class=\"colab-df-container\">\n",
              "      <div>\n",
              "<style scoped>\n",
              "    .dataframe tbody tr th:only-of-type {\n",
              "        vertical-align: middle;\n",
              "    }\n",
              "\n",
              "    .dataframe tbody tr th {\n",
              "        vertical-align: top;\n",
              "    }\n",
              "\n",
              "    .dataframe thead th {\n",
              "        text-align: right;\n",
              "    }\n",
              "</style>\n",
              "<table border=\"1\" class=\"dataframe\">\n",
              "  <thead>\n",
              "    <tr style=\"text-align: right;\">\n",
              "      <th></th>\n",
              "      <th>preco_total</th>\n",
              "      <th>tipo_quarto</th>\n",
              "      <th>capacidade_pessoas</th>\n",
              "      <th>anfitriao_superhost</th>\n",
              "      <th>avaliacao_limpeza</th>\n",
              "      <th>satisfacao_hospede</th>\n",
              "      <th>quantidade_quartos</th>\n",
              "      <th>distancia_centro</th>\n",
              "      <th>metro_distancia</th>\n",
              "      <th>atracao_local_normalizado</th>\n",
              "      <th>restaurante_local_normalizado</th>\n",
              "      <th>longitude</th>\n",
              "      <th>latitude</th>\n",
              "    </tr>\n",
              "  </thead>\n",
              "  <tbody>\n",
              "    <tr>\n",
              "      <th>1</th>\n",
              "      <td>344.245776</td>\n",
              "      <td>QUARTO PRIVADO</td>\n",
              "      <td>4</td>\n",
              "      <td>False</td>\n",
              "      <td>8.0</td>\n",
              "      <td>85</td>\n",
              "      <td>1</td>\n",
              "      <td>0.488389</td>\n",
              "      <td>0.239404</td>\n",
              "      <td>33.421209</td>\n",
              "      <td>58.342928</td>\n",
              "      <td>4.90005</td>\n",
              "      <td>52.37432</td>\n",
              "    </tr>\n",
              "    <tr>\n",
              "      <th>3</th>\n",
              "      <td>433.529398</td>\n",
              "      <td>QUARTO PRIVADO</td>\n",
              "      <td>4</td>\n",
              "      <td>False</td>\n",
              "      <td>9.0</td>\n",
              "      <td>90</td>\n",
              "      <td>2</td>\n",
              "      <td>0.384862</td>\n",
              "      <td>0.439876</td>\n",
              "      <td>26.119108</td>\n",
              "      <td>60.973565</td>\n",
              "      <td>4.89417</td>\n",
              "      <td>52.37663</td>\n",
              "    </tr>\n",
              "    <tr>\n",
              "      <th>4</th>\n",
              "      <td>485.552926</td>\n",
              "      <td>QUARTO PRIVADO</td>\n",
              "      <td>2</td>\n",
              "      <td>True</td>\n",
              "      <td>10.0</td>\n",
              "      <td>98</td>\n",
              "      <td>1</td>\n",
              "      <td>0.544738</td>\n",
              "      <td>0.318693</td>\n",
              "      <td>29.272733</td>\n",
              "      <td>56.811677</td>\n",
              "      <td>4.90051</td>\n",
              "      <td>52.37508</td>\n",
              "    </tr>\n",
              "    <tr>\n",
              "      <th>5</th>\n",
              "      <td>552.808567</td>\n",
              "      <td>QUARTO PRIVADO</td>\n",
              "      <td>3</td>\n",
              "      <td>False</td>\n",
              "      <td>8.0</td>\n",
              "      <td>100</td>\n",
              "      <td>2</td>\n",
              "      <td>2.131420</td>\n",
              "      <td>1.904668</td>\n",
              "      <td>9.255191</td>\n",
              "      <td>15.692376</td>\n",
              "      <td>4.87699</td>\n",
              "      <td>52.38966</td>\n",
              "    </tr>\n",
              "    <tr>\n",
              "      <th>6</th>\n",
              "      <td>215.124317</td>\n",
              "      <td>QUARTO PRIVADO</td>\n",
              "      <td>2</td>\n",
              "      <td>False</td>\n",
              "      <td>10.0</td>\n",
              "      <td>94</td>\n",
              "      <td>1</td>\n",
              "      <td>1.881092</td>\n",
              "      <td>0.729747</td>\n",
              "      <td>10.599010</td>\n",
              "      <td>16.916251</td>\n",
              "      <td>4.91570</td>\n",
              "      <td>52.38296</td>\n",
              "    </tr>\n",
              "    <tr>\n",
              "      <th>...</th>\n",
              "      <td>...</td>\n",
              "      <td>...</td>\n",
              "      <td>...</td>\n",
              "      <td>...</td>\n",
              "      <td>...</td>\n",
              "      <td>...</td>\n",
              "      <td>...</td>\n",
              "      <td>...</td>\n",
              "      <td>...</td>\n",
              "      <td>...</td>\n",
              "      <td>...</td>\n",
              "      <td>...</td>\n",
              "      <td>...</td>\n",
              "    </tr>\n",
              "    <tr>\n",
              "      <th>1097</th>\n",
              "      <td>356.197127</td>\n",
              "      <td>QUARTO PRIVADO</td>\n",
              "      <td>4</td>\n",
              "      <td>True</td>\n",
              "      <td>10.0</td>\n",
              "      <td>95</td>\n",
              "      <td>1</td>\n",
              "      <td>2.169253</td>\n",
              "      <td>0.212113</td>\n",
              "      <td>11.883906</td>\n",
              "      <td>20.332049</td>\n",
              "      <td>4.91118</td>\n",
              "      <td>52.35718</td>\n",
              "    </tr>\n",
              "    <tr>\n",
              "      <th>1098</th>\n",
              "      <td>2486.115342</td>\n",
              "      <td>APT/CASA INTEIRA</td>\n",
              "      <td>2</td>\n",
              "      <td>False</td>\n",
              "      <td>10.0</td>\n",
              "      <td>100</td>\n",
              "      <td>1</td>\n",
              "      <td>2.375833</td>\n",
              "      <td>1.436054</td>\n",
              "      <td>9.594573</td>\n",
              "      <td>15.699521</td>\n",
              "      <td>4.85869</td>\n",
              "      <td>52.37677</td>\n",
              "    </tr>\n",
              "    <tr>\n",
              "      <th>1100</th>\n",
              "      <td>317.062311</td>\n",
              "      <td>QUARTO PRIVADO</td>\n",
              "      <td>2</td>\n",
              "      <td>False</td>\n",
              "      <td>10.0</td>\n",
              "      <td>92</td>\n",
              "      <td>1</td>\n",
              "      <td>0.598355</td>\n",
              "      <td>0.751993</td>\n",
              "      <td>23.323524</td>\n",
              "      <td>43.616927</td>\n",
              "      <td>4.88897</td>\n",
              "      <td>52.37798</td>\n",
              "    </tr>\n",
              "    <tr>\n",
              "      <th>1101</th>\n",
              "      <td>1812.855904</td>\n",
              "      <td>APT/CASA INTEIRA</td>\n",
              "      <td>4</td>\n",
              "      <td>False</td>\n",
              "      <td>8.0</td>\n",
              "      <td>84</td>\n",
              "      <td>5</td>\n",
              "      <td>1.943020</td>\n",
              "      <td>0.388532</td>\n",
              "      <td>13.658524</td>\n",
              "      <td>23.454022</td>\n",
              "      <td>4.90688</td>\n",
              "      <td>52.35794</td>\n",
              "    </tr>\n",
              "    <tr>\n",
              "      <th>1102</th>\n",
              "      <td>258.008577</td>\n",
              "      <td>QUARTO COMPARTILHADO</td>\n",
              "      <td>2</td>\n",
              "      <td>False</td>\n",
              "      <td>8.0</td>\n",
              "      <td>90</td>\n",
              "      <td>1</td>\n",
              "      <td>0.280204</td>\n",
              "      <td>0.516217</td>\n",
              "      <td>28.273677</td>\n",
              "      <td>56.267226</td>\n",
              "      <td>4.89295</td>\n",
              "      <td>52.37575</td>\n",
              "    </tr>\n",
              "  </tbody>\n",
              "</table>\n",
              "<p>695 rows × 13 columns</p>\n",
              "</div>\n",
              "      <button class=\"colab-df-convert\" onclick=\"convertToInteractive('df-7c3f33fe-ca96-4a11-91ed-0d483e14f489')\"\n",
              "              title=\"Convert this dataframe to an interactive table.\"\n",
              "              style=\"display:none;\">\n",
              "        \n",
              "  <svg xmlns=\"http://www.w3.org/2000/svg\" height=\"24px\"viewBox=\"0 0 24 24\"\n",
              "       width=\"24px\">\n",
              "    <path d=\"M0 0h24v24H0V0z\" fill=\"none\"/>\n",
              "    <path d=\"M18.56 5.44l.94 2.06.94-2.06 2.06-.94-2.06-.94-.94-2.06-.94 2.06-2.06.94zm-11 1L8.5 8.5l.94-2.06 2.06-.94-2.06-.94L8.5 2.5l-.94 2.06-2.06.94zm10 10l.94 2.06.94-2.06 2.06-.94-2.06-.94-.94-2.06-.94 2.06-2.06.94z\"/><path d=\"M17.41 7.96l-1.37-1.37c-.4-.4-.92-.59-1.43-.59-.52 0-1.04.2-1.43.59L10.3 9.45l-7.72 7.72c-.78.78-.78 2.05 0 2.83L4 21.41c.39.39.9.59 1.41.59.51 0 1.02-.2 1.41-.59l7.78-7.78 2.81-2.81c.8-.78.8-2.07 0-2.86zM5.41 20L4 18.59l7.72-7.72 1.47 1.35L5.41 20z\"/>\n",
              "  </svg>\n",
              "      </button>\n",
              "      \n",
              "  <style>\n",
              "    .colab-df-container {\n",
              "      display:flex;\n",
              "      flex-wrap:wrap;\n",
              "      gap: 12px;\n",
              "    }\n",
              "\n",
              "    .colab-df-convert {\n",
              "      background-color: #E8F0FE;\n",
              "      border: none;\n",
              "      border-radius: 50%;\n",
              "      cursor: pointer;\n",
              "      display: none;\n",
              "      fill: #1967D2;\n",
              "      height: 32px;\n",
              "      padding: 0 0 0 0;\n",
              "      width: 32px;\n",
              "    }\n",
              "\n",
              "    .colab-df-convert:hover {\n",
              "      background-color: #E2EBFA;\n",
              "      box-shadow: 0px 1px 2px rgba(60, 64, 67, 0.3), 0px 1px 3px 1px rgba(60, 64, 67, 0.15);\n",
              "      fill: #174EA6;\n",
              "    }\n",
              "\n",
              "    [theme=dark] .colab-df-convert {\n",
              "      background-color: #3B4455;\n",
              "      fill: #D2E3FC;\n",
              "    }\n",
              "\n",
              "    [theme=dark] .colab-df-convert:hover {\n",
              "      background-color: #434B5C;\n",
              "      box-shadow: 0px 1px 3px 1px rgba(0, 0, 0, 0.15);\n",
              "      filter: drop-shadow(0px 1px 2px rgba(0, 0, 0, 0.3));\n",
              "      fill: #FFFFFF;\n",
              "    }\n",
              "  </style>\n",
              "\n",
              "      <script>\n",
              "        const buttonEl =\n",
              "          document.querySelector('#df-7c3f33fe-ca96-4a11-91ed-0d483e14f489 button.colab-df-convert');\n",
              "        buttonEl.style.display =\n",
              "          google.colab.kernel.accessAllowed ? 'block' : 'none';\n",
              "\n",
              "        async function convertToInteractive(key) {\n",
              "          const element = document.querySelector('#df-7c3f33fe-ca96-4a11-91ed-0d483e14f489');\n",
              "          const dataTable =\n",
              "            await google.colab.kernel.invokeFunction('convertToInteractive',\n",
              "                                                     [key], {});\n",
              "          if (!dataTable) return;\n",
              "\n",
              "          const docLinkHtml = 'Like what you see? Visit the ' +\n",
              "            '<a target=\"_blank\" href=https://colab.research.google.com/notebooks/data_table.ipynb>data table notebook</a>'\n",
              "            + ' to learn more about interactive tables.';\n",
              "          element.innerHTML = '';\n",
              "          dataTable['output_type'] = 'display_data';\n",
              "          await google.colab.output.renderOutput(dataTable, element);\n",
              "          const docLink = document.createElement('div');\n",
              "          docLink.innerHTML = docLinkHtml;\n",
              "          element.appendChild(docLink);\n",
              "        }\n",
              "      </script>\n",
              "    </div>\n",
              "  </div>\n",
              "  "
            ]
          },
          "metadata": {},
          "execution_count": 62
        }
      ]
    },
    {
      "cell_type": "code",
      "source": [
        "# Agregações por distância ao centro\n",
        "df_distancia = df.groupby(['distancia_centro']).agg({'atracao_local_normalizado': 'mean',\n",
        "                                      'restaurante_local_normalizado': 'mean',\n",
        "                                      'preco_total': 'mean',\n",
        "                                     }).reset_index()\n",
        "df_distancia"
      ],
      "metadata": {
        "colab": {
          "base_uri": "https://localhost:8080/",
          "height": 424
        },
        "id": "2NvsBCMVZBnV",
        "outputId": "a0a2fe3a-2854-4d6b-9e78-6d509917c698"
      },
      "execution_count": null,
      "outputs": [
        {
          "output_type": "execute_result",
          "data": {
            "text/plain": [
              "      distancia_centro  atracao_local_normalizado  \\\n",
              "0             0.015059                  53.125831   \n",
              "1             0.099654                  38.691111   \n",
              "2             0.114806                  42.916536   \n",
              "3             0.122820                  36.624224   \n",
              "4             0.138665                  40.744223   \n",
              "...                ...                        ...   \n",
              "1098         10.898647                   2.224470   \n",
              "1099         10.967236                   2.185584   \n",
              "1100         11.037736                   2.189288   \n",
              "1101         11.038045                   2.204981   \n",
              "1102         11.187100                   2.167346   \n",
              "\n",
              "      restaurante_local_normalizado  preco_total  \n",
              "0                         58.567665   995.477234  \n",
              "1                         55.031149   356.431467  \n",
              "2                         54.486626   361.352612  \n",
              "3                         62.199635  1388.700115  \n",
              "4                         58.462717  1567.033019  \n",
              "...                             ...          ...  \n",
              "1098                       3.640416   204.110327  \n",
              "1099                       3.574256   196.611440  \n",
              "1100                       3.580742   491.645771  \n",
              "1101                       3.609393   194.033698  \n",
              "1102                       3.545205   405.642912  \n",
              "\n",
              "[1103 rows x 4 columns]"
            ],
            "text/html": [
              "\n",
              "  <div id=\"df-5310f57d-aeb2-43c2-adc9-c86dc801c6b3\">\n",
              "    <div class=\"colab-df-container\">\n",
              "      <div>\n",
              "<style scoped>\n",
              "    .dataframe tbody tr th:only-of-type {\n",
              "        vertical-align: middle;\n",
              "    }\n",
              "\n",
              "    .dataframe tbody tr th {\n",
              "        vertical-align: top;\n",
              "    }\n",
              "\n",
              "    .dataframe thead th {\n",
              "        text-align: right;\n",
              "    }\n",
              "</style>\n",
              "<table border=\"1\" class=\"dataframe\">\n",
              "  <thead>\n",
              "    <tr style=\"text-align: right;\">\n",
              "      <th></th>\n",
              "      <th>distancia_centro</th>\n",
              "      <th>atracao_local_normalizado</th>\n",
              "      <th>restaurante_local_normalizado</th>\n",
              "      <th>preco_total</th>\n",
              "    </tr>\n",
              "  </thead>\n",
              "  <tbody>\n",
              "    <tr>\n",
              "      <th>0</th>\n",
              "      <td>0.015059</td>\n",
              "      <td>53.125831</td>\n",
              "      <td>58.567665</td>\n",
              "      <td>995.477234</td>\n",
              "    </tr>\n",
              "    <tr>\n",
              "      <th>1</th>\n",
              "      <td>0.099654</td>\n",
              "      <td>38.691111</td>\n",
              "      <td>55.031149</td>\n",
              "      <td>356.431467</td>\n",
              "    </tr>\n",
              "    <tr>\n",
              "      <th>2</th>\n",
              "      <td>0.114806</td>\n",
              "      <td>42.916536</td>\n",
              "      <td>54.486626</td>\n",
              "      <td>361.352612</td>\n",
              "    </tr>\n",
              "    <tr>\n",
              "      <th>3</th>\n",
              "      <td>0.122820</td>\n",
              "      <td>36.624224</td>\n",
              "      <td>62.199635</td>\n",
              "      <td>1388.700115</td>\n",
              "    </tr>\n",
              "    <tr>\n",
              "      <th>4</th>\n",
              "      <td>0.138665</td>\n",
              "      <td>40.744223</td>\n",
              "      <td>58.462717</td>\n",
              "      <td>1567.033019</td>\n",
              "    </tr>\n",
              "    <tr>\n",
              "      <th>...</th>\n",
              "      <td>...</td>\n",
              "      <td>...</td>\n",
              "      <td>...</td>\n",
              "      <td>...</td>\n",
              "    </tr>\n",
              "    <tr>\n",
              "      <th>1098</th>\n",
              "      <td>10.898647</td>\n",
              "      <td>2.224470</td>\n",
              "      <td>3.640416</td>\n",
              "      <td>204.110327</td>\n",
              "    </tr>\n",
              "    <tr>\n",
              "      <th>1099</th>\n",
              "      <td>10.967236</td>\n",
              "      <td>2.185584</td>\n",
              "      <td>3.574256</td>\n",
              "      <td>196.611440</td>\n",
              "    </tr>\n",
              "    <tr>\n",
              "      <th>1100</th>\n",
              "      <td>11.037736</td>\n",
              "      <td>2.189288</td>\n",
              "      <td>3.580742</td>\n",
              "      <td>491.645771</td>\n",
              "    </tr>\n",
              "    <tr>\n",
              "      <th>1101</th>\n",
              "      <td>11.038045</td>\n",
              "      <td>2.204981</td>\n",
              "      <td>3.609393</td>\n",
              "      <td>194.033698</td>\n",
              "    </tr>\n",
              "    <tr>\n",
              "      <th>1102</th>\n",
              "      <td>11.187100</td>\n",
              "      <td>2.167346</td>\n",
              "      <td>3.545205</td>\n",
              "      <td>405.642912</td>\n",
              "    </tr>\n",
              "  </tbody>\n",
              "</table>\n",
              "<p>1103 rows × 4 columns</p>\n",
              "</div>\n",
              "      <button class=\"colab-df-convert\" onclick=\"convertToInteractive('df-5310f57d-aeb2-43c2-adc9-c86dc801c6b3')\"\n",
              "              title=\"Convert this dataframe to an interactive table.\"\n",
              "              style=\"display:none;\">\n",
              "        \n",
              "  <svg xmlns=\"http://www.w3.org/2000/svg\" height=\"24px\"viewBox=\"0 0 24 24\"\n",
              "       width=\"24px\">\n",
              "    <path d=\"M0 0h24v24H0V0z\" fill=\"none\"/>\n",
              "    <path d=\"M18.56 5.44l.94 2.06.94-2.06 2.06-.94-2.06-.94-.94-2.06-.94 2.06-2.06.94zm-11 1L8.5 8.5l.94-2.06 2.06-.94-2.06-.94L8.5 2.5l-.94 2.06-2.06.94zm10 10l.94 2.06.94-2.06 2.06-.94-2.06-.94-.94-2.06-.94 2.06-2.06.94z\"/><path d=\"M17.41 7.96l-1.37-1.37c-.4-.4-.92-.59-1.43-.59-.52 0-1.04.2-1.43.59L10.3 9.45l-7.72 7.72c-.78.78-.78 2.05 0 2.83L4 21.41c.39.39.9.59 1.41.59.51 0 1.02-.2 1.41-.59l7.78-7.78 2.81-2.81c.8-.78.8-2.07 0-2.86zM5.41 20L4 18.59l7.72-7.72 1.47 1.35L5.41 20z\"/>\n",
              "  </svg>\n",
              "      </button>\n",
              "      \n",
              "  <style>\n",
              "    .colab-df-container {\n",
              "      display:flex;\n",
              "      flex-wrap:wrap;\n",
              "      gap: 12px;\n",
              "    }\n",
              "\n",
              "    .colab-df-convert {\n",
              "      background-color: #E8F0FE;\n",
              "      border: none;\n",
              "      border-radius: 50%;\n",
              "      cursor: pointer;\n",
              "      display: none;\n",
              "      fill: #1967D2;\n",
              "      height: 32px;\n",
              "      padding: 0 0 0 0;\n",
              "      width: 32px;\n",
              "    }\n",
              "\n",
              "    .colab-df-convert:hover {\n",
              "      background-color: #E2EBFA;\n",
              "      box-shadow: 0px 1px 2px rgba(60, 64, 67, 0.3), 0px 1px 3px 1px rgba(60, 64, 67, 0.15);\n",
              "      fill: #174EA6;\n",
              "    }\n",
              "\n",
              "    [theme=dark] .colab-df-convert {\n",
              "      background-color: #3B4455;\n",
              "      fill: #D2E3FC;\n",
              "    }\n",
              "\n",
              "    [theme=dark] .colab-df-convert:hover {\n",
              "      background-color: #434B5C;\n",
              "      box-shadow: 0px 1px 3px 1px rgba(0, 0, 0, 0.15);\n",
              "      filter: drop-shadow(0px 1px 2px rgba(0, 0, 0, 0.3));\n",
              "      fill: #FFFFFF;\n",
              "    }\n",
              "  </style>\n",
              "\n",
              "      <script>\n",
              "        const buttonEl =\n",
              "          document.querySelector('#df-5310f57d-aeb2-43c2-adc9-c86dc801c6b3 button.colab-df-convert');\n",
              "        buttonEl.style.display =\n",
              "          google.colab.kernel.accessAllowed ? 'block' : 'none';\n",
              "\n",
              "        async function convertToInteractive(key) {\n",
              "          const element = document.querySelector('#df-5310f57d-aeb2-43c2-adc9-c86dc801c6b3');\n",
              "          const dataTable =\n",
              "            await google.colab.kernel.invokeFunction('convertToInteractive',\n",
              "                                                     [key], {});\n",
              "          if (!dataTable) return;\n",
              "\n",
              "          const docLinkHtml = 'Like what you see? Visit the ' +\n",
              "            '<a target=\"_blank\" href=https://colab.research.google.com/notebooks/data_table.ipynb>data table notebook</a>'\n",
              "            + ' to learn more about interactive tables.';\n",
              "          element.innerHTML = '';\n",
              "          dataTable['output_type'] = 'display_data';\n",
              "          await google.colab.output.renderOutput(dataTable, element);\n",
              "          const docLink = document.createElement('div');\n",
              "          docLink.innerHTML = docLinkHtml;\n",
              "          element.appendChild(docLink);\n",
              "        }\n",
              "      </script>\n",
              "    </div>\n",
              "  </div>\n",
              "  "
            ]
          },
          "metadata": {},
          "execution_count": 63
        }
      ]
    },
    {
      "cell_type": "code",
      "source": [
        "# Agrupamento por faixa de distância ao centro\n",
        "df_groupby_distancia = df.groupby(pd.cut(df['distancia_centro'], bins=[0, 3, 6, 9, 12])).agg({'preco_total': 'mean',\n",
        "                                                                                              'capacidade_pessoas': 'mean',\n",
        "                                                                                              'atracao_local_normalizado': 'mean',\n",
        "                                                                                              'restaurante_local_normalizado': 'mean'}).round(2)\n",
        "df_groupby_distancia"
      ],
      "metadata": {
        "colab": {
          "base_uri": "https://localhost:8080/",
          "height": 206
        },
        "id": "KIB6v4XXb5F0",
        "outputId": "ed658c14-7ef3-40ab-aaaa-58a9dc01f0c6"
      },
      "execution_count": null,
      "outputs": [
        {
          "output_type": "execute_result",
          "data": {
            "text/plain": [
              "                  preco_total  capacidade_pessoas  atracao_local_normalizado  \\\n",
              "distancia_centro                                                               \n",
              "(0, 3]                 625.77                2.84                      19.39   \n",
              "(3, 6]                 435.17                2.73                       6.65   \n",
              "(6, 9]                 333.25                2.69                       3.41   \n",
              "(9, 12]                308.36                2.54                       2.39   \n",
              "\n",
              "                  restaurante_local_normalizado  \n",
              "distancia_centro                                 \n",
              "(0, 3]                                    32.17  \n",
              "(3, 6]                                    11.04  \n",
              "(6, 9]                                     5.61  \n",
              "(9, 12]                                    3.92  "
            ],
            "text/html": [
              "\n",
              "  <div id=\"df-89e75231-4fc8-4044-99a0-013bb85f3bc5\">\n",
              "    <div class=\"colab-df-container\">\n",
              "      <div>\n",
              "<style scoped>\n",
              "    .dataframe tbody tr th:only-of-type {\n",
              "        vertical-align: middle;\n",
              "    }\n",
              "\n",
              "    .dataframe tbody tr th {\n",
              "        vertical-align: top;\n",
              "    }\n",
              "\n",
              "    .dataframe thead th {\n",
              "        text-align: right;\n",
              "    }\n",
              "</style>\n",
              "<table border=\"1\" class=\"dataframe\">\n",
              "  <thead>\n",
              "    <tr style=\"text-align: right;\">\n",
              "      <th></th>\n",
              "      <th>preco_total</th>\n",
              "      <th>capacidade_pessoas</th>\n",
              "      <th>atracao_local_normalizado</th>\n",
              "      <th>restaurante_local_normalizado</th>\n",
              "    </tr>\n",
              "    <tr>\n",
              "      <th>distancia_centro</th>\n",
              "      <th></th>\n",
              "      <th></th>\n",
              "      <th></th>\n",
              "      <th></th>\n",
              "    </tr>\n",
              "  </thead>\n",
              "  <tbody>\n",
              "    <tr>\n",
              "      <th>(0, 3]</th>\n",
              "      <td>625.77</td>\n",
              "      <td>2.84</td>\n",
              "      <td>19.39</td>\n",
              "      <td>32.17</td>\n",
              "    </tr>\n",
              "    <tr>\n",
              "      <th>(3, 6]</th>\n",
              "      <td>435.17</td>\n",
              "      <td>2.73</td>\n",
              "      <td>6.65</td>\n",
              "      <td>11.04</td>\n",
              "    </tr>\n",
              "    <tr>\n",
              "      <th>(6, 9]</th>\n",
              "      <td>333.25</td>\n",
              "      <td>2.69</td>\n",
              "      <td>3.41</td>\n",
              "      <td>5.61</td>\n",
              "    </tr>\n",
              "    <tr>\n",
              "      <th>(9, 12]</th>\n",
              "      <td>308.36</td>\n",
              "      <td>2.54</td>\n",
              "      <td>2.39</td>\n",
              "      <td>3.92</td>\n",
              "    </tr>\n",
              "  </tbody>\n",
              "</table>\n",
              "</div>\n",
              "      <button class=\"colab-df-convert\" onclick=\"convertToInteractive('df-89e75231-4fc8-4044-99a0-013bb85f3bc5')\"\n",
              "              title=\"Convert this dataframe to an interactive table.\"\n",
              "              style=\"display:none;\">\n",
              "        \n",
              "  <svg xmlns=\"http://www.w3.org/2000/svg\" height=\"24px\"viewBox=\"0 0 24 24\"\n",
              "       width=\"24px\">\n",
              "    <path d=\"M0 0h24v24H0V0z\" fill=\"none\"/>\n",
              "    <path d=\"M18.56 5.44l.94 2.06.94-2.06 2.06-.94-2.06-.94-.94-2.06-.94 2.06-2.06.94zm-11 1L8.5 8.5l.94-2.06 2.06-.94-2.06-.94L8.5 2.5l-.94 2.06-2.06.94zm10 10l.94 2.06.94-2.06 2.06-.94-2.06-.94-.94-2.06-.94 2.06-2.06.94z\"/><path d=\"M17.41 7.96l-1.37-1.37c-.4-.4-.92-.59-1.43-.59-.52 0-1.04.2-1.43.59L10.3 9.45l-7.72 7.72c-.78.78-.78 2.05 0 2.83L4 21.41c.39.39.9.59 1.41.59.51 0 1.02-.2 1.41-.59l7.78-7.78 2.81-2.81c.8-.78.8-2.07 0-2.86zM5.41 20L4 18.59l7.72-7.72 1.47 1.35L5.41 20z\"/>\n",
              "  </svg>\n",
              "      </button>\n",
              "      \n",
              "  <style>\n",
              "    .colab-df-container {\n",
              "      display:flex;\n",
              "      flex-wrap:wrap;\n",
              "      gap: 12px;\n",
              "    }\n",
              "\n",
              "    .colab-df-convert {\n",
              "      background-color: #E8F0FE;\n",
              "      border: none;\n",
              "      border-radius: 50%;\n",
              "      cursor: pointer;\n",
              "      display: none;\n",
              "      fill: #1967D2;\n",
              "      height: 32px;\n",
              "      padding: 0 0 0 0;\n",
              "      width: 32px;\n",
              "    }\n",
              "\n",
              "    .colab-df-convert:hover {\n",
              "      background-color: #E2EBFA;\n",
              "      box-shadow: 0px 1px 2px rgba(60, 64, 67, 0.3), 0px 1px 3px 1px rgba(60, 64, 67, 0.15);\n",
              "      fill: #174EA6;\n",
              "    }\n",
              "\n",
              "    [theme=dark] .colab-df-convert {\n",
              "      background-color: #3B4455;\n",
              "      fill: #D2E3FC;\n",
              "    }\n",
              "\n",
              "    [theme=dark] .colab-df-convert:hover {\n",
              "      background-color: #434B5C;\n",
              "      box-shadow: 0px 1px 3px 1px rgba(0, 0, 0, 0.15);\n",
              "      filter: drop-shadow(0px 1px 2px rgba(0, 0, 0, 0.3));\n",
              "      fill: #FFFFFF;\n",
              "    }\n",
              "  </style>\n",
              "\n",
              "      <script>\n",
              "        const buttonEl =\n",
              "          document.querySelector('#df-89e75231-4fc8-4044-99a0-013bb85f3bc5 button.colab-df-convert');\n",
              "        buttonEl.style.display =\n",
              "          google.colab.kernel.accessAllowed ? 'block' : 'none';\n",
              "\n",
              "        async function convertToInteractive(key) {\n",
              "          const element = document.querySelector('#df-89e75231-4fc8-4044-99a0-013bb85f3bc5');\n",
              "          const dataTable =\n",
              "            await google.colab.kernel.invokeFunction('convertToInteractive',\n",
              "                                                     [key], {});\n",
              "          if (!dataTable) return;\n",
              "\n",
              "          const docLinkHtml = 'Like what you see? Visit the ' +\n",
              "            '<a target=\"_blank\" href=https://colab.research.google.com/notebooks/data_table.ipynb>data table notebook</a>'\n",
              "            + ' to learn more about interactive tables.';\n",
              "          element.innerHTML = '';\n",
              "          dataTable['output_type'] = 'display_data';\n",
              "          await google.colab.output.renderOutput(dataTable, element);\n",
              "          const docLink = document.createElement('div');\n",
              "          docLink.innerHTML = docLinkHtml;\n",
              "          element.appendChild(docLink);\n",
              "        }\n",
              "      </script>\n",
              "    </div>\n",
              "  </div>\n",
              "  "
            ]
          },
          "metadata": {},
          "execution_count": 64
        }
      ]
    },
    {
      "cell_type": "markdown",
      "source": [
        "## **Estatisticas**"
      ],
      "metadata": {
        "id": "deA1beF7EVJa"
      }
    },
    {
      "cell_type": "code",
      "source": [
        "# Resumo de estatisticas descritivas\n",
        "df.describe().round(2)"
      ],
      "metadata": {
        "id": "xt3WC7BzNrvJ",
        "colab": {
          "base_uri": "https://localhost:8080/",
          "height": 364
        },
        "outputId": "8b8f9348-9250-456e-91ef-7b8c6d4e7916"
      },
      "execution_count": null,
      "outputs": [
        {
          "output_type": "execute_result",
          "data": {
            "text/plain": [
              "       preco_total  capacidade_pessoas  avaliacao_limpeza  satisfacao_hospede  \\\n",
              "count      1103.00             1103.00            1103.00             1103.00   \n",
              "mean        545.02                2.79               9.46               94.36   \n",
              "std         416.97                1.04               0.80                6.09   \n",
              "min         128.89                2.00               4.00               20.00   \n",
              "25%         309.80                2.00               9.00               92.00   \n",
              "50%         430.25                2.00              10.00               96.00   \n",
              "75%         657.32                4.00              10.00               98.00   \n",
              "max        7782.91                6.00              10.00              100.00   \n",
              "\n",
              "       quantidade_quartos  distancia_centro  metro_distancia  \\\n",
              "count             1103.00           1103.00          1103.00   \n",
              "mean                 1.28              2.84             1.09   \n",
              "std                  0.74              2.12             0.84   \n",
              "min                  0.00              0.02             0.04   \n",
              "25%                  1.00              1.30             0.46   \n",
              "50%                  1.00              2.34             0.86   \n",
              "75%                  2.00              3.65             1.51   \n",
              "max                  5.00             11.19             4.41   \n",
              "\n",
              "       atracao_local_normalizado  restaurante_local_normalizado  longitude  \\\n",
              "count                    1103.00                        1103.00    1103.00   \n",
              "mean                       14.35                          23.80       4.89   \n",
              "std                        10.43                          16.49       0.04   \n",
              "min                         2.17                           3.55       4.78   \n",
              "25%                         6.77                          11.39       4.87   \n",
              "50%                        11.02                          18.14       4.89   \n",
              "75%                        20.46                          32.70       4.91   \n",
              "max                       100.00                         100.00       5.01   \n",
              "\n",
              "       latitude  \n",
              "count   1103.00  \n",
              "mean      52.36  \n",
              "std        0.02  \n",
              "min       52.29  \n",
              "25%       52.35  \n",
              "50%       52.37  \n",
              "75%       52.38  \n",
              "max       52.42  "
            ],
            "text/html": [
              "\n",
              "  <div id=\"df-89acf4bb-804f-43e9-9bf4-e4bff48c01fe\">\n",
              "    <div class=\"colab-df-container\">\n",
              "      <div>\n",
              "<style scoped>\n",
              "    .dataframe tbody tr th:only-of-type {\n",
              "        vertical-align: middle;\n",
              "    }\n",
              "\n",
              "    .dataframe tbody tr th {\n",
              "        vertical-align: top;\n",
              "    }\n",
              "\n",
              "    .dataframe thead th {\n",
              "        text-align: right;\n",
              "    }\n",
              "</style>\n",
              "<table border=\"1\" class=\"dataframe\">\n",
              "  <thead>\n",
              "    <tr style=\"text-align: right;\">\n",
              "      <th></th>\n",
              "      <th>preco_total</th>\n",
              "      <th>capacidade_pessoas</th>\n",
              "      <th>avaliacao_limpeza</th>\n",
              "      <th>satisfacao_hospede</th>\n",
              "      <th>quantidade_quartos</th>\n",
              "      <th>distancia_centro</th>\n",
              "      <th>metro_distancia</th>\n",
              "      <th>atracao_local_normalizado</th>\n",
              "      <th>restaurante_local_normalizado</th>\n",
              "      <th>longitude</th>\n",
              "      <th>latitude</th>\n",
              "    </tr>\n",
              "  </thead>\n",
              "  <tbody>\n",
              "    <tr>\n",
              "      <th>count</th>\n",
              "      <td>1103.00</td>\n",
              "      <td>1103.00</td>\n",
              "      <td>1103.00</td>\n",
              "      <td>1103.00</td>\n",
              "      <td>1103.00</td>\n",
              "      <td>1103.00</td>\n",
              "      <td>1103.00</td>\n",
              "      <td>1103.00</td>\n",
              "      <td>1103.00</td>\n",
              "      <td>1103.00</td>\n",
              "      <td>1103.00</td>\n",
              "    </tr>\n",
              "    <tr>\n",
              "      <th>mean</th>\n",
              "      <td>545.02</td>\n",
              "      <td>2.79</td>\n",
              "      <td>9.46</td>\n",
              "      <td>94.36</td>\n",
              "      <td>1.28</td>\n",
              "      <td>2.84</td>\n",
              "      <td>1.09</td>\n",
              "      <td>14.35</td>\n",
              "      <td>23.80</td>\n",
              "      <td>4.89</td>\n",
              "      <td>52.36</td>\n",
              "    </tr>\n",
              "    <tr>\n",
              "      <th>std</th>\n",
              "      <td>416.97</td>\n",
              "      <td>1.04</td>\n",
              "      <td>0.80</td>\n",
              "      <td>6.09</td>\n",
              "      <td>0.74</td>\n",
              "      <td>2.12</td>\n",
              "      <td>0.84</td>\n",
              "      <td>10.43</td>\n",
              "      <td>16.49</td>\n",
              "      <td>0.04</td>\n",
              "      <td>0.02</td>\n",
              "    </tr>\n",
              "    <tr>\n",
              "      <th>min</th>\n",
              "      <td>128.89</td>\n",
              "      <td>2.00</td>\n",
              "      <td>4.00</td>\n",
              "      <td>20.00</td>\n",
              "      <td>0.00</td>\n",
              "      <td>0.02</td>\n",
              "      <td>0.04</td>\n",
              "      <td>2.17</td>\n",
              "      <td>3.55</td>\n",
              "      <td>4.78</td>\n",
              "      <td>52.29</td>\n",
              "    </tr>\n",
              "    <tr>\n",
              "      <th>25%</th>\n",
              "      <td>309.80</td>\n",
              "      <td>2.00</td>\n",
              "      <td>9.00</td>\n",
              "      <td>92.00</td>\n",
              "      <td>1.00</td>\n",
              "      <td>1.30</td>\n",
              "      <td>0.46</td>\n",
              "      <td>6.77</td>\n",
              "      <td>11.39</td>\n",
              "      <td>4.87</td>\n",
              "      <td>52.35</td>\n",
              "    </tr>\n",
              "    <tr>\n",
              "      <th>50%</th>\n",
              "      <td>430.25</td>\n",
              "      <td>2.00</td>\n",
              "      <td>10.00</td>\n",
              "      <td>96.00</td>\n",
              "      <td>1.00</td>\n",
              "      <td>2.34</td>\n",
              "      <td>0.86</td>\n",
              "      <td>11.02</td>\n",
              "      <td>18.14</td>\n",
              "      <td>4.89</td>\n",
              "      <td>52.37</td>\n",
              "    </tr>\n",
              "    <tr>\n",
              "      <th>75%</th>\n",
              "      <td>657.32</td>\n",
              "      <td>4.00</td>\n",
              "      <td>10.00</td>\n",
              "      <td>98.00</td>\n",
              "      <td>2.00</td>\n",
              "      <td>3.65</td>\n",
              "      <td>1.51</td>\n",
              "      <td>20.46</td>\n",
              "      <td>32.70</td>\n",
              "      <td>4.91</td>\n",
              "      <td>52.38</td>\n",
              "    </tr>\n",
              "    <tr>\n",
              "      <th>max</th>\n",
              "      <td>7782.91</td>\n",
              "      <td>6.00</td>\n",
              "      <td>10.00</td>\n",
              "      <td>100.00</td>\n",
              "      <td>5.00</td>\n",
              "      <td>11.19</td>\n",
              "      <td>4.41</td>\n",
              "      <td>100.00</td>\n",
              "      <td>100.00</td>\n",
              "      <td>5.01</td>\n",
              "      <td>52.42</td>\n",
              "    </tr>\n",
              "  </tbody>\n",
              "</table>\n",
              "</div>\n",
              "      <button class=\"colab-df-convert\" onclick=\"convertToInteractive('df-89acf4bb-804f-43e9-9bf4-e4bff48c01fe')\"\n",
              "              title=\"Convert this dataframe to an interactive table.\"\n",
              "              style=\"display:none;\">\n",
              "        \n",
              "  <svg xmlns=\"http://www.w3.org/2000/svg\" height=\"24px\"viewBox=\"0 0 24 24\"\n",
              "       width=\"24px\">\n",
              "    <path d=\"M0 0h24v24H0V0z\" fill=\"none\"/>\n",
              "    <path d=\"M18.56 5.44l.94 2.06.94-2.06 2.06-.94-2.06-.94-.94-2.06-.94 2.06-2.06.94zm-11 1L8.5 8.5l.94-2.06 2.06-.94-2.06-.94L8.5 2.5l-.94 2.06-2.06.94zm10 10l.94 2.06.94-2.06 2.06-.94-2.06-.94-.94-2.06-.94 2.06-2.06.94z\"/><path d=\"M17.41 7.96l-1.37-1.37c-.4-.4-.92-.59-1.43-.59-.52 0-1.04.2-1.43.59L10.3 9.45l-7.72 7.72c-.78.78-.78 2.05 0 2.83L4 21.41c.39.39.9.59 1.41.59.51 0 1.02-.2 1.41-.59l7.78-7.78 2.81-2.81c.8-.78.8-2.07 0-2.86zM5.41 20L4 18.59l7.72-7.72 1.47 1.35L5.41 20z\"/>\n",
              "  </svg>\n",
              "      </button>\n",
              "      \n",
              "  <style>\n",
              "    .colab-df-container {\n",
              "      display:flex;\n",
              "      flex-wrap:wrap;\n",
              "      gap: 12px;\n",
              "    }\n",
              "\n",
              "    .colab-df-convert {\n",
              "      background-color: #E8F0FE;\n",
              "      border: none;\n",
              "      border-radius: 50%;\n",
              "      cursor: pointer;\n",
              "      display: none;\n",
              "      fill: #1967D2;\n",
              "      height: 32px;\n",
              "      padding: 0 0 0 0;\n",
              "      width: 32px;\n",
              "    }\n",
              "\n",
              "    .colab-df-convert:hover {\n",
              "      background-color: #E2EBFA;\n",
              "      box-shadow: 0px 1px 2px rgba(60, 64, 67, 0.3), 0px 1px 3px 1px rgba(60, 64, 67, 0.15);\n",
              "      fill: #174EA6;\n",
              "    }\n",
              "\n",
              "    [theme=dark] .colab-df-convert {\n",
              "      background-color: #3B4455;\n",
              "      fill: #D2E3FC;\n",
              "    }\n",
              "\n",
              "    [theme=dark] .colab-df-convert:hover {\n",
              "      background-color: #434B5C;\n",
              "      box-shadow: 0px 1px 3px 1px rgba(0, 0, 0, 0.15);\n",
              "      filter: drop-shadow(0px 1px 2px rgba(0, 0, 0, 0.3));\n",
              "      fill: #FFFFFF;\n",
              "    }\n",
              "  </style>\n",
              "\n",
              "      <script>\n",
              "        const buttonEl =\n",
              "          document.querySelector('#df-89acf4bb-804f-43e9-9bf4-e4bff48c01fe button.colab-df-convert');\n",
              "        buttonEl.style.display =\n",
              "          google.colab.kernel.accessAllowed ? 'block' : 'none';\n",
              "\n",
              "        async function convertToInteractive(key) {\n",
              "          const element = document.querySelector('#df-89acf4bb-804f-43e9-9bf4-e4bff48c01fe');\n",
              "          const dataTable =\n",
              "            await google.colab.kernel.invokeFunction('convertToInteractive',\n",
              "                                                     [key], {});\n",
              "          if (!dataTable) return;\n",
              "\n",
              "          const docLinkHtml = 'Like what you see? Visit the ' +\n",
              "            '<a target=\"_blank\" href=https://colab.research.google.com/notebooks/data_table.ipynb>data table notebook</a>'\n",
              "            + ' to learn more about interactive tables.';\n",
              "          element.innerHTML = '';\n",
              "          dataTable['output_type'] = 'display_data';\n",
              "          await google.colab.output.renderOutput(dataTable, element);\n",
              "          const docLink = document.createElement('div');\n",
              "          docLink.innerHTML = docLinkHtml;\n",
              "          element.appendChild(docLink);\n",
              "        }\n",
              "      </script>\n",
              "    </div>\n",
              "  </div>\n",
              "  "
            ]
          },
          "metadata": {},
          "execution_count": 65
        }
      ]
    },
    {
      "cell_type": "code",
      "source": [
        "# Correlações de todas colunas quantitativas\n",
        "df.corr()"
      ],
      "metadata": {
        "id": "vIN71lGPNwzz",
        "colab": {
          "base_uri": "https://localhost:8080/",
          "height": 490
        },
        "outputId": "607a6063-1ab3-4a20-935e-7125ed3c1b3e"
      },
      "execution_count": null,
      "outputs": [
        {
          "output_type": "execute_result",
          "data": {
            "text/plain": [
              "                               preco_total  capacidade_pessoas  \\\n",
              "preco_total                       1.000000            0.526992   \n",
              "capacidade_pessoas                0.526992            1.000000   \n",
              "anfitriao_superhost              -0.063118           -0.091513   \n",
              "avaliacao_limpeza                 0.022938           -0.065680   \n",
              "satisfacao_hospede                0.136025            0.035399   \n",
              "quantidade_quartos                0.491703            0.660776   \n",
              "distancia_centro                 -0.258692           -0.046410   \n",
              "metro_distancia                  -0.142298           -0.003328   \n",
              "atracao_local_normalizado         0.244193            0.044485   \n",
              "restaurante_local_normalizado     0.208429            0.008940   \n",
              "longitude                        -0.029993           -0.008643   \n",
              "latitude                          0.093704            0.074367   \n",
              "\n",
              "                               anfitriao_superhost  avaliacao_limpeza  \\\n",
              "preco_total                              -0.063118           0.022938   \n",
              "capacidade_pessoas                       -0.091513          -0.065680   \n",
              "anfitriao_superhost                       1.000000           0.314499   \n",
              "avaliacao_limpeza                         0.314499           1.000000   \n",
              "satisfacao_hospede                        0.299440           0.648809   \n",
              "quantidade_quartos                       -0.062919          -0.015326   \n",
              "distancia_centro                          0.017490          -0.021712   \n",
              "metro_distancia                           0.040076           0.019532   \n",
              "atracao_local_normalizado                -0.023030          -0.006147   \n",
              "restaurante_local_normalizado            -0.018040           0.010937   \n",
              "longitude                                -0.056270          -0.030684   \n",
              "latitude                                  0.016724           0.026053   \n",
              "\n",
              "                               satisfacao_hospede  quantidade_quartos  \\\n",
              "preco_total                              0.136025            0.491703   \n",
              "capacidade_pessoas                       0.035399            0.660776   \n",
              "anfitriao_superhost                      0.299440           -0.062919   \n",
              "avaliacao_limpeza                        0.648809           -0.015326   \n",
              "satisfacao_hospede                       1.000000            0.104254   \n",
              "quantidade_quartos                       0.104254            1.000000   \n",
              "distancia_centro                        -0.059805            0.021662   \n",
              "metro_distancia                          0.050810            0.015170   \n",
              "atracao_local_normalizado                0.006316           -0.021489   \n",
              "restaurante_local_normalizado           -0.004934           -0.071591   \n",
              "longitude                               -0.052624           -0.014422   \n",
              "latitude                                 0.090223           -0.008973   \n",
              "\n",
              "                               distancia_centro  metro_distancia  \\\n",
              "preco_total                           -0.258692        -0.142298   \n",
              "capacidade_pessoas                    -0.046410        -0.003328   \n",
              "anfitriao_superhost                    0.017490         0.040076   \n",
              "avaliacao_limpeza                     -0.021712         0.019532   \n",
              "satisfacao_hospede                    -0.059805         0.050810   \n",
              "quantidade_quartos                     0.021662         0.015170   \n",
              "distancia_centro                       1.000000         0.412042   \n",
              "metro_distancia                        0.412042         1.000000   \n",
              "atracao_local_normalizado             -0.705351        -0.467947   \n",
              "restaurante_local_normalizado         -0.751632        -0.489143   \n",
              "longitude                              0.217692         0.050295   \n",
              "latitude                              -0.491373         0.282552   \n",
              "\n",
              "                               atracao_local_normalizado  \\\n",
              "preco_total                                     0.244193   \n",
              "capacidade_pessoas                              0.044485   \n",
              "anfitriao_superhost                            -0.023030   \n",
              "avaliacao_limpeza                              -0.006147   \n",
              "satisfacao_hospede                              0.006316   \n",
              "quantidade_quartos                             -0.021489   \n",
              "distancia_centro                               -0.705351   \n",
              "metro_distancia                                -0.467947   \n",
              "atracao_local_normalizado                       1.000000   \n",
              "restaurante_local_normalizado                   0.861256   \n",
              "longitude                                      -0.069721   \n",
              "latitude                                        0.164243   \n",
              "\n",
              "                               restaurante_local_normalizado  longitude  \\\n",
              "preco_total                                         0.208429  -0.029993   \n",
              "capacidade_pessoas                                  0.008940  -0.008643   \n",
              "anfitriao_superhost                                -0.018040  -0.056270   \n",
              "avaliacao_limpeza                                   0.010937  -0.030684   \n",
              "satisfacao_hospede                                 -0.004934  -0.052624   \n",
              "quantidade_quartos                                 -0.071591  -0.014422   \n",
              "distancia_centro                                   -0.751632   0.217692   \n",
              "metro_distancia                                    -0.489143   0.050295   \n",
              "atracao_local_normalizado                           0.861256  -0.069721   \n",
              "restaurante_local_normalizado                       1.000000  -0.073999   \n",
              "longitude                                          -0.073999   1.000000   \n",
              "latitude                                            0.183962  -0.206237   \n",
              "\n",
              "                               latitude  \n",
              "preco_total                    0.093704  \n",
              "capacidade_pessoas             0.074367  \n",
              "anfitriao_superhost            0.016724  \n",
              "avaliacao_limpeza              0.026053  \n",
              "satisfacao_hospede             0.090223  \n",
              "quantidade_quartos            -0.008973  \n",
              "distancia_centro              -0.491373  \n",
              "metro_distancia                0.282552  \n",
              "atracao_local_normalizado      0.164243  \n",
              "restaurante_local_normalizado  0.183962  \n",
              "longitude                     -0.206237  \n",
              "latitude                       1.000000  "
            ],
            "text/html": [
              "\n",
              "  <div id=\"df-5ca54bd8-4063-4277-ae22-cde642997b04\">\n",
              "    <div class=\"colab-df-container\">\n",
              "      <div>\n",
              "<style scoped>\n",
              "    .dataframe tbody tr th:only-of-type {\n",
              "        vertical-align: middle;\n",
              "    }\n",
              "\n",
              "    .dataframe tbody tr th {\n",
              "        vertical-align: top;\n",
              "    }\n",
              "\n",
              "    .dataframe thead th {\n",
              "        text-align: right;\n",
              "    }\n",
              "</style>\n",
              "<table border=\"1\" class=\"dataframe\">\n",
              "  <thead>\n",
              "    <tr style=\"text-align: right;\">\n",
              "      <th></th>\n",
              "      <th>preco_total</th>\n",
              "      <th>capacidade_pessoas</th>\n",
              "      <th>anfitriao_superhost</th>\n",
              "      <th>avaliacao_limpeza</th>\n",
              "      <th>satisfacao_hospede</th>\n",
              "      <th>quantidade_quartos</th>\n",
              "      <th>distancia_centro</th>\n",
              "      <th>metro_distancia</th>\n",
              "      <th>atracao_local_normalizado</th>\n",
              "      <th>restaurante_local_normalizado</th>\n",
              "      <th>longitude</th>\n",
              "      <th>latitude</th>\n",
              "    </tr>\n",
              "  </thead>\n",
              "  <tbody>\n",
              "    <tr>\n",
              "      <th>preco_total</th>\n",
              "      <td>1.000000</td>\n",
              "      <td>0.526992</td>\n",
              "      <td>-0.063118</td>\n",
              "      <td>0.022938</td>\n",
              "      <td>0.136025</td>\n",
              "      <td>0.491703</td>\n",
              "      <td>-0.258692</td>\n",
              "      <td>-0.142298</td>\n",
              "      <td>0.244193</td>\n",
              "      <td>0.208429</td>\n",
              "      <td>-0.029993</td>\n",
              "      <td>0.093704</td>\n",
              "    </tr>\n",
              "    <tr>\n",
              "      <th>capacidade_pessoas</th>\n",
              "      <td>0.526992</td>\n",
              "      <td>1.000000</td>\n",
              "      <td>-0.091513</td>\n",
              "      <td>-0.065680</td>\n",
              "      <td>0.035399</td>\n",
              "      <td>0.660776</td>\n",
              "      <td>-0.046410</td>\n",
              "      <td>-0.003328</td>\n",
              "      <td>0.044485</td>\n",
              "      <td>0.008940</td>\n",
              "      <td>-0.008643</td>\n",
              "      <td>0.074367</td>\n",
              "    </tr>\n",
              "    <tr>\n",
              "      <th>anfitriao_superhost</th>\n",
              "      <td>-0.063118</td>\n",
              "      <td>-0.091513</td>\n",
              "      <td>1.000000</td>\n",
              "      <td>0.314499</td>\n",
              "      <td>0.299440</td>\n",
              "      <td>-0.062919</td>\n",
              "      <td>0.017490</td>\n",
              "      <td>0.040076</td>\n",
              "      <td>-0.023030</td>\n",
              "      <td>-0.018040</td>\n",
              "      <td>-0.056270</td>\n",
              "      <td>0.016724</td>\n",
              "    </tr>\n",
              "    <tr>\n",
              "      <th>avaliacao_limpeza</th>\n",
              "      <td>0.022938</td>\n",
              "      <td>-0.065680</td>\n",
              "      <td>0.314499</td>\n",
              "      <td>1.000000</td>\n",
              "      <td>0.648809</td>\n",
              "      <td>-0.015326</td>\n",
              "      <td>-0.021712</td>\n",
              "      <td>0.019532</td>\n",
              "      <td>-0.006147</td>\n",
              "      <td>0.010937</td>\n",
              "      <td>-0.030684</td>\n",
              "      <td>0.026053</td>\n",
              "    </tr>\n",
              "    <tr>\n",
              "      <th>satisfacao_hospede</th>\n",
              "      <td>0.136025</td>\n",
              "      <td>0.035399</td>\n",
              "      <td>0.299440</td>\n",
              "      <td>0.648809</td>\n",
              "      <td>1.000000</td>\n",
              "      <td>0.104254</td>\n",
              "      <td>-0.059805</td>\n",
              "      <td>0.050810</td>\n",
              "      <td>0.006316</td>\n",
              "      <td>-0.004934</td>\n",
              "      <td>-0.052624</td>\n",
              "      <td>0.090223</td>\n",
              "    </tr>\n",
              "    <tr>\n",
              "      <th>quantidade_quartos</th>\n",
              "      <td>0.491703</td>\n",
              "      <td>0.660776</td>\n",
              "      <td>-0.062919</td>\n",
              "      <td>-0.015326</td>\n",
              "      <td>0.104254</td>\n",
              "      <td>1.000000</td>\n",
              "      <td>0.021662</td>\n",
              "      <td>0.015170</td>\n",
              "      <td>-0.021489</td>\n",
              "      <td>-0.071591</td>\n",
              "      <td>-0.014422</td>\n",
              "      <td>-0.008973</td>\n",
              "    </tr>\n",
              "    <tr>\n",
              "      <th>distancia_centro</th>\n",
              "      <td>-0.258692</td>\n",
              "      <td>-0.046410</td>\n",
              "      <td>0.017490</td>\n",
              "      <td>-0.021712</td>\n",
              "      <td>-0.059805</td>\n",
              "      <td>0.021662</td>\n",
              "      <td>1.000000</td>\n",
              "      <td>0.412042</td>\n",
              "      <td>-0.705351</td>\n",
              "      <td>-0.751632</td>\n",
              "      <td>0.217692</td>\n",
              "      <td>-0.491373</td>\n",
              "    </tr>\n",
              "    <tr>\n",
              "      <th>metro_distancia</th>\n",
              "      <td>-0.142298</td>\n",
              "      <td>-0.003328</td>\n",
              "      <td>0.040076</td>\n",
              "      <td>0.019532</td>\n",
              "      <td>0.050810</td>\n",
              "      <td>0.015170</td>\n",
              "      <td>0.412042</td>\n",
              "      <td>1.000000</td>\n",
              "      <td>-0.467947</td>\n",
              "      <td>-0.489143</td>\n",
              "      <td>0.050295</td>\n",
              "      <td>0.282552</td>\n",
              "    </tr>\n",
              "    <tr>\n",
              "      <th>atracao_local_normalizado</th>\n",
              "      <td>0.244193</td>\n",
              "      <td>0.044485</td>\n",
              "      <td>-0.023030</td>\n",
              "      <td>-0.006147</td>\n",
              "      <td>0.006316</td>\n",
              "      <td>-0.021489</td>\n",
              "      <td>-0.705351</td>\n",
              "      <td>-0.467947</td>\n",
              "      <td>1.000000</td>\n",
              "      <td>0.861256</td>\n",
              "      <td>-0.069721</td>\n",
              "      <td>0.164243</td>\n",
              "    </tr>\n",
              "    <tr>\n",
              "      <th>restaurante_local_normalizado</th>\n",
              "      <td>0.208429</td>\n",
              "      <td>0.008940</td>\n",
              "      <td>-0.018040</td>\n",
              "      <td>0.010937</td>\n",
              "      <td>-0.004934</td>\n",
              "      <td>-0.071591</td>\n",
              "      <td>-0.751632</td>\n",
              "      <td>-0.489143</td>\n",
              "      <td>0.861256</td>\n",
              "      <td>1.000000</td>\n",
              "      <td>-0.073999</td>\n",
              "      <td>0.183962</td>\n",
              "    </tr>\n",
              "    <tr>\n",
              "      <th>longitude</th>\n",
              "      <td>-0.029993</td>\n",
              "      <td>-0.008643</td>\n",
              "      <td>-0.056270</td>\n",
              "      <td>-0.030684</td>\n",
              "      <td>-0.052624</td>\n",
              "      <td>-0.014422</td>\n",
              "      <td>0.217692</td>\n",
              "      <td>0.050295</td>\n",
              "      <td>-0.069721</td>\n",
              "      <td>-0.073999</td>\n",
              "      <td>1.000000</td>\n",
              "      <td>-0.206237</td>\n",
              "    </tr>\n",
              "    <tr>\n",
              "      <th>latitude</th>\n",
              "      <td>0.093704</td>\n",
              "      <td>0.074367</td>\n",
              "      <td>0.016724</td>\n",
              "      <td>0.026053</td>\n",
              "      <td>0.090223</td>\n",
              "      <td>-0.008973</td>\n",
              "      <td>-0.491373</td>\n",
              "      <td>0.282552</td>\n",
              "      <td>0.164243</td>\n",
              "      <td>0.183962</td>\n",
              "      <td>-0.206237</td>\n",
              "      <td>1.000000</td>\n",
              "    </tr>\n",
              "  </tbody>\n",
              "</table>\n",
              "</div>\n",
              "      <button class=\"colab-df-convert\" onclick=\"convertToInteractive('df-5ca54bd8-4063-4277-ae22-cde642997b04')\"\n",
              "              title=\"Convert this dataframe to an interactive table.\"\n",
              "              style=\"display:none;\">\n",
              "        \n",
              "  <svg xmlns=\"http://www.w3.org/2000/svg\" height=\"24px\"viewBox=\"0 0 24 24\"\n",
              "       width=\"24px\">\n",
              "    <path d=\"M0 0h24v24H0V0z\" fill=\"none\"/>\n",
              "    <path d=\"M18.56 5.44l.94 2.06.94-2.06 2.06-.94-2.06-.94-.94-2.06-.94 2.06-2.06.94zm-11 1L8.5 8.5l.94-2.06 2.06-.94-2.06-.94L8.5 2.5l-.94 2.06-2.06.94zm10 10l.94 2.06.94-2.06 2.06-.94-2.06-.94-.94-2.06-.94 2.06-2.06.94z\"/><path d=\"M17.41 7.96l-1.37-1.37c-.4-.4-.92-.59-1.43-.59-.52 0-1.04.2-1.43.59L10.3 9.45l-7.72 7.72c-.78.78-.78 2.05 0 2.83L4 21.41c.39.39.9.59 1.41.59.51 0 1.02-.2 1.41-.59l7.78-7.78 2.81-2.81c.8-.78.8-2.07 0-2.86zM5.41 20L4 18.59l7.72-7.72 1.47 1.35L5.41 20z\"/>\n",
              "  </svg>\n",
              "      </button>\n",
              "      \n",
              "  <style>\n",
              "    .colab-df-container {\n",
              "      display:flex;\n",
              "      flex-wrap:wrap;\n",
              "      gap: 12px;\n",
              "    }\n",
              "\n",
              "    .colab-df-convert {\n",
              "      background-color: #E8F0FE;\n",
              "      border: none;\n",
              "      border-radius: 50%;\n",
              "      cursor: pointer;\n",
              "      display: none;\n",
              "      fill: #1967D2;\n",
              "      height: 32px;\n",
              "      padding: 0 0 0 0;\n",
              "      width: 32px;\n",
              "    }\n",
              "\n",
              "    .colab-df-convert:hover {\n",
              "      background-color: #E2EBFA;\n",
              "      box-shadow: 0px 1px 2px rgba(60, 64, 67, 0.3), 0px 1px 3px 1px rgba(60, 64, 67, 0.15);\n",
              "      fill: #174EA6;\n",
              "    }\n",
              "\n",
              "    [theme=dark] .colab-df-convert {\n",
              "      background-color: #3B4455;\n",
              "      fill: #D2E3FC;\n",
              "    }\n",
              "\n",
              "    [theme=dark] .colab-df-convert:hover {\n",
              "      background-color: #434B5C;\n",
              "      box-shadow: 0px 1px 3px 1px rgba(0, 0, 0, 0.15);\n",
              "      filter: drop-shadow(0px 1px 2px rgba(0, 0, 0, 0.3));\n",
              "      fill: #FFFFFF;\n",
              "    }\n",
              "  </style>\n",
              "\n",
              "      <script>\n",
              "        const buttonEl =\n",
              "          document.querySelector('#df-5ca54bd8-4063-4277-ae22-cde642997b04 button.colab-df-convert');\n",
              "        buttonEl.style.display =\n",
              "          google.colab.kernel.accessAllowed ? 'block' : 'none';\n",
              "\n",
              "        async function convertToInteractive(key) {\n",
              "          const element = document.querySelector('#df-5ca54bd8-4063-4277-ae22-cde642997b04');\n",
              "          const dataTable =\n",
              "            await google.colab.kernel.invokeFunction('convertToInteractive',\n",
              "                                                     [key], {});\n",
              "          if (!dataTable) return;\n",
              "\n",
              "          const docLinkHtml = 'Like what you see? Visit the ' +\n",
              "            '<a target=\"_blank\" href=https://colab.research.google.com/notebooks/data_table.ipynb>data table notebook</a>'\n",
              "            + ' to learn more about interactive tables.';\n",
              "          element.innerHTML = '';\n",
              "          dataTable['output_type'] = 'display_data';\n",
              "          await google.colab.output.renderOutput(dataTable, element);\n",
              "          const docLink = document.createElement('div');\n",
              "          docLink.innerHTML = docLinkHtml;\n",
              "          element.appendChild(docLink);\n",
              "        }\n",
              "      </script>\n",
              "    </div>\n",
              "  </div>\n",
              "  "
            ]
          },
          "metadata": {},
          "execution_count": 66
        }
      ]
    },
    {
      "cell_type": "markdown",
      "source": [
        "# **Visualização**"
      ],
      "metadata": {
        "id": "yIoIsnpnEexG"
      }
    },
    {
      "cell_type": "code",
      "source": [
        "# Importação de bibliotecas para plotagem\n",
        "import matplotlib.pyplot as plt\n",
        "import seaborn as sns"
      ],
      "metadata": {
        "id": "Jh9-i-sVgRqf"
      },
      "execution_count": null,
      "outputs": []
    },
    {
      "cell_type": "markdown",
      "source": [
        "## Graficos de barras"
      ],
      "metadata": {
        "id": "O86OPOHN6Ohq"
      }
    },
    {
      "cell_type": "code",
      "source": [
        "# Grafico que visualiza qual 'tipo de quarto' esta incluido em listagens com preços altos\n",
        "df_maior_preco.groupby('tipo_quarto').size().plot.bar()\n",
        "plt.xlabel('Tipo de Quarto')\n",
        "plt.ylabel('Contagem')\n",
        "plt.title('Contagem de Listagens com maior preço por Tipo de Quarto')\n",
        "plt.show()"
      ],
      "metadata": {
        "colab": {
          "base_uri": "https://localhost:8080/",
          "height": 585
        },
        "outputId": "d34fb7f9-95dc-44f4-b111-6998765148b5",
        "id": "YB4_YwrKhMJB"
      },
      "execution_count": null,
      "outputs": [
        {
          "output_type": "display_data",
          "data": {
            "text/plain": [
              "<Figure size 640x480 with 1 Axes>"
            ],
            "image/png": "[encoded data removed]"
          },
          "metadata": {}
        }
      ]
    },
    {
      "cell_type": "code",
      "source": [
        "# Grafico que visualiza qual 'tipo de quarto' esta incluido em listagens com preços baixos\n",
        "df_menor_preco.groupby('tipo_quarto').size().plot.bar()\n",
        "plt.xlabel('Tipo de Quarto')\n",
        "plt.ylabel('Contagem')\n",
        "plt.title('Contagem de Listagens com menor preço por Tipo de Quarto')\n",
        "plt.show()"
      ],
      "metadata": {
        "colab": {
          "base_uri": "https://localhost:8080/",
          "height": 641
        },
        "outputId": "571b782c-3c17-4a0a-c221-c2a5d7307be4",
        "id": "5d2pFOEzhMJK"
      },
      "execution_count": null,
      "outputs": [
        {
          "output_type": "display_data",
          "data": {
            "text/plain": [
              "<Figure size 640x480 with 1 Axes>"
            ],
            "image/png": "[encoded data removed]"
          },
          "metadata": {}
        }
      ]
    },
    {
      "cell_type": "code",
      "source": [
        "# Média do preço total por faixa de distância\n",
        "df_groupby_distancia['preco_total'].plot(kind='bar')\n",
        "plt.xlabel('Faixa de Distância')\n",
        "plt.ylabel('Média do Preço Total')\n",
        "plt.title('Média do Preço Total por Faixa de Distância')\n",
        "plt.show()"
      ],
      "metadata": {
        "colab": {
          "base_uri": "https://localhost:8080/",
          "height": 504
        },
        "id": "HLbK7L58ea5k",
        "outputId": "0e87a114-aa48-4602-e4b3-6318e2be60c3"
      },
      "execution_count": null,
      "outputs": [
        {
          "output_type": "display_data",
          "data": {
            "text/plain": [
              "<Figure size 640x480 with 1 Axes>"
            ],
            "image/png": "[encoded data removed]"
          },
          "metadata": {}
        }
      ]
    },
    {
      "cell_type": "code",
      "source": [
        "# Intervalos de distância comparando preço médio\n",
        "distancia_comparacao = pd.cut(df['distancia_centro'], bins=[0, 2, 5, np.inf], labels=['Próximo', 'Mediano', 'Distante'])\n",
        "df.groupby(distancia_comparacao)['preco_total'].mean().plot(kind='bar')\n",
        "plt.xlabel('Distância do Centro')\n",
        "plt.ylabel('Preço Médio')\n",
        "plt.title('Comparação de Preço Médio por Distância do Centro')\n",
        "plt.show()"
      ],
      "metadata": {
        "colab": {
          "base_uri": "https://localhost:8080/",
          "height": 517
        },
        "id": "xG_gVQFY_5IC",
        "outputId": "7722283c-0b0d-4a11-88bb-a1745ec507c2"
      },
      "execution_count": null,
      "outputs": [
        {
          "output_type": "display_data",
          "data": {
            "text/plain": [
              "<Figure size 640x480 with 1 Axes>"
            ],
            "image/png": "[encoded data removed]"
          },
          "metadata": {}
        }
      ]
    },
    {
      "cell_type": "markdown",
      "source": [
        "## Graficos de Setores"
      ],
      "metadata": {
        "id": "lMsFgsua6RFi"
      }
    },
    {
      "cell_type": "code",
      "source": [
        "# Porcentagem de Listagens por Capacidade de Pessoas com maior preço na listagem\n",
        "df_maior_preco.groupby('capacidade_pessoas').size().plot(kind='pie', autopct='%1.1f%%')\n",
        "plt.ylabel('')\n",
        "plt.title('Porcentagem de Listagens por Capacidade de Pessoas com maior preço na listagem')\n",
        "plt.show()"
      ],
      "metadata": {
        "colab": {
          "base_uri": "https://localhost:8080/",
          "height": 428
        },
        "id": "Z1DWcaEQBosj",
        "outputId": "2f2b4a5f-26fa-48ac-bc4c-d8fb3d31836d"
      },
      "execution_count": null,
      "outputs": [
        {
          "output_type": "display_data",
          "data": {
            "text/plain": [
              "<Figure size 640x480 with 1 Axes>"
            ],
            "image/png": "[encoded data removed]"
          },
          "metadata": {}
        }
      ]
    },
    {
      "cell_type": "code",
      "source": [
        "# Porcentagem de Listagens por Capacidade de Pessoas com menor preço na listagem\n",
        "df_menor_preco.groupby('capacidade_pessoas').size().plot(kind='pie', autopct='%1.1f%%')\n",
        "plt.ylabel('')\n",
        "plt.title('Porcentagem de Listagens por Capacidade de Pessoas com menor preço na listagem')\n",
        "plt.show()"
      ],
      "metadata": {
        "colab": {
          "base_uri": "https://localhost:8080/",
          "height": 428
        },
        "id": "uA3jffJAfoRl",
        "outputId": "2119ffb3-9e64-49cd-8474-a07ebf6f7462"
      },
      "execution_count": null,
      "outputs": [
        {
          "output_type": "display_data",
          "data": {
            "text/plain": [
              "<Figure size 640x480 with 1 Axes>"
            ],
            "image/png": "[encoded data removed]"
          },
          "metadata": {}
        }
      ]
    },
    {
      "cell_type": "markdown",
      "source": [
        "## Graficos Boxplot"
      ],
      "metadata": {
        "id": "zPUepOF-6WyS"
      }
    },
    {
      "cell_type": "code",
      "source": [
        "# Distribuição de Avaliação de Limpeza e Satisfação do Hóspede\n",
        "df[['avaliacao_limpeza', 'satisfacao_hospede']].plot(kind='box')\n",
        "plt.ylabel('Pontuação')\n",
        "plt.title('Distribuição de Avaliação de Limpeza e Satisfação do Hóspede')\n",
        "plt.show()"
      ],
      "metadata": {
        "colab": {
          "base_uri": "https://localhost:8080/",
          "height": 453
        },
        "id": "3VXRtPCeAWks",
        "outputId": "43cca8b5-0208-4f13-d5ae-b0e627420d27"
      },
      "execution_count": null,
      "outputs": [
        {
          "output_type": "display_data",
          "data": {
            "text/plain": [
              "<Figure size 640x480 with 1 Axes>"
            ],
            "image/png": "[encoded data removed]"
          },
          "metadata": {}
        }
      ]
    },
    {
      "cell_type": "markdown",
      "source": [
        "### Grafico de linhas"
      ],
      "metadata": {
        "id": "uSb3rchs6ZSq"
      }
    },
    {
      "cell_type": "code",
      "source": [
        "# Média da Atratividade Local por Faixa de Distância\n",
        "df_groupby_distancia['atracao_local_normalizado'].plot(kind='line')\n",
        "plt.xlabel('Faixa de Distância')\n",
        "plt.ylabel('Média da Atratividade Local')\n",
        "plt.title('Média da Atratividade Local por Faixa de Distância')\n",
        "plt.show()"
      ],
      "metadata": {
        "colab": {
          "base_uri": "https://localhost:8080/",
          "height": 472
        },
        "id": "csQmKhwcdyHs",
        "outputId": "b5211ca5-1ca9-45d3-c135-50385ce008ad"
      },
      "execution_count": null,
      "outputs": [
        {
          "output_type": "display_data",
          "data": {
            "text/plain": [
              "<Figure size 640x480 with 1 Axes>"
            ],
            "image/png": "[encoded data removed]"
          },
          "metadata": {}
        }
      ]
    },
    {
      "cell_type": "markdown",
      "source": [
        "### Grafico de dispersão"
      ],
      "metadata": {
        "id": "Pf6Id4el6a-K"
      }
    },
    {
      "cell_type": "code",
      "source": [
        "# Relação entre Atratividade Local e Restaurante Local\n",
        "df_groupby_distancia.plot(kind='scatter', x='atracao_local_normalizado', y='restaurante_local_normalizado')\n",
        "plt.xlabel('Média da Atratividade Local Normalizada')\n",
        "plt.ylabel('Média do Restaurante Local Normalizado')\n",
        "plt.title('Relação entre Atratividade Local Normalizada e Restaurante Local Normalizado')\n",
        "plt.show()"
      ],
      "metadata": {
        "colab": {
          "base_uri": "https://localhost:8080/",
          "height": 472
        },
        "id": "xyGUgvN-d8Is",
        "outputId": "890ef6fb-ad7f-4fe0-a89e-2689437be5f0"
      },
      "execution_count": null,
      "outputs": [
        {
          "output_type": "display_data",
          "data": {
            "text/plain": [
              "<Figure size 640x480 with 1 Axes>"
            ],
            "image/png": "[encoded data removed]"
          },
          "metadata": {}
        }
      ]
    },
    {
      "cell_type": "code",
      "source": [
        "# Relação entre Distância do Centro e Preço Total\n",
        "plt.scatter(df['distancia_centro'], df['preco_total'])\n",
        "plt.xlabel('Distância do Centro (km)')\n",
        "plt.ylabel('Preço Total')\n",
        "plt.title('Relação entre Distância do Centro e Preço Total')\n",
        "plt.show()"
      ],
      "metadata": {
        "colab": {
          "base_uri": "https://localhost:8080/",
          "height": 472
        },
        "id": "Fypv4m-gWL-C",
        "outputId": "01625db7-9e44-45de-c522-dee7dab46886"
      },
      "execution_count": null,
      "outputs": [
        {
          "output_type": "display_data",
          "data": {
            "text/plain": [
              "<Figure size 640x480 with 1 Axes>"
            ],
            "image/png": "[encoded data removed]"
          },
          "metadata": {}
        }
      ]
    },
    {
      "cell_type": "markdown",
      "source": [
        "### Grafico Histograma"
      ],
      "metadata": {
        "id": "HlKeSIhB6c8a"
      }
    },
    {
      "cell_type": "code",
      "source": [
        "# Distribuição da Avaliação de Limpeza\n",
        "df['avaliacao_limpeza'].plot(kind='hist', bins=10)\n",
        "plt.xlabel('Avaliação de Limpeza')\n",
        "plt.ylabel('Frequência')\n",
        "plt.title('Distribuição da Avaliação de Limpeza')\n",
        "plt.show()"
      ],
      "metadata": {
        "colab": {
          "base_uri": "https://localhost:8080/",
          "height": 472
        },
        "id": "lBfREMQNAJLb",
        "outputId": "70d1e330-076b-4b82-f281-c958bf1d0d5d"
      },
      "execution_count": null,
      "outputs": [
        {
          "output_type": "display_data",
          "data": {
            "text/plain": [
              "<Figure size 640x480 with 1 Axes>"
            ],
            "image/png": "[encoded data removed]"
          },
          "metadata": {}
        }
      ]
    },
    {
      "cell_type": "code",
      "source": [
        "# Filtrar por anfitrião superhost e comparar satisfação do hospede\n",
        "df[df['anfitriao_superhost'] == 1]['satisfacao_hospede'].plot(kind='hist', bins=10)\n",
        "plt.xlabel('Satisfação do Hospede')\n",
        "plt.ylabel('Frequência')\n",
        "plt.title('Distribuição da Satisfação do Hospede para Anfitriões Superhost')\n",
        "plt.show()"
      ],
      "metadata": {
        "colab": {
          "base_uri": "https://localhost:8080/",
          "height": 472
        },
        "id": "TE5yR-LY_qqL",
        "outputId": "2ca61e08-c47a-4869-d888-27444abf3f6c"
      },
      "execution_count": null,
      "outputs": [
        {
          "output_type": "display_data",
          "data": {
            "text/plain": [
              "<Figure size 640x480 with 1 Axes>"
            ],
            "image/png": "[encoded data removed]"
          },
          "metadata": {}
        }
      ]
    },
    {
      "cell_type": "markdown",
      "source": [
        "## Grafico de correlação"
      ],
      "metadata": {
        "id": "sPcoPnQMgHzv"
      }
    },
    {
      "cell_type": "code",
      "source": [
        "# Calculando a matriz de correlação\n",
        "correlacao = df.corr()\n",
        "plt.figure(figsize=(10, 8))\n",
        "sns.heatmap(correlacao, annot=True, cmap='coolwarm')\n",
        "plt.title('Mapa de Calor - Correlação')\n",
        "plt.show()"
      ],
      "metadata": {
        "colab": {
          "base_uri": "https://localhost:8080/",
          "height": 898
        },
        "id": "N0EqiLWu1ngj",
        "outputId": "d2eda3ee-4975-4025-b699-18e5ef8dec7f"
      },
      "execution_count": null,
      "outputs": [
        {
          "output_type": "display_data",
          "data": {
            "text/plain": [
              "<Figure size 1000x800 with 2 Axes>"
            ],
            "image/png": "[encoded data removed]"
          },
          "metadata": {}
        }
      ]
    },
    {
      "cell_type": "markdown",
      "source": [
        "# **Conclusão**"
      ],
      "metadata": {
        "id": "U7I2i3vYeV7L"
      }
    },
    {
      "cell_type": "markdown",
      "source": [
        "* Preço: Oportunidade de explorar preços competitivos para acomodações com capacidade superior a 2 pessoas, considerando que a maioria das listagens é para 2 pessoas.\n",
        "\n",
        "* Atrações locais: Destacar a proximidade das atrações locais nos anúncios como um diferencial.\n",
        "\n",
        "* Restaurantes locais: Enfatizar a conveniência dos restaurantes próximos às acomodações.\n",
        "\n",
        "* Tipo de quarto: Considerar as preferências dos hóspedes ao oferecer diferentes tipos de quartos.\n",
        "\n",
        "* Limpeza: Destacar a qualidade da limpeza nas descrições dos anúncios para aumentar a confiança dos hóspedes.\n",
        "\n",
        "* Satisfação dos hospedes: Buscar manter altos níveis de satisfação dos hóspedes através de um bom atendimento e serviços.\n",
        "\n",
        "* Capacidade de pessoas: Oferecer acomodações para grupos maiores com preços competitivos.\n",
        "\n",
        "* Distância do centro: Oportunidade de oferecer preços mais baixos para acomodações localizadas em áreas mais afastadas, porém com fácil acesso ao centro da cidade."
      ],
      "metadata": {
        "id": "VN482_zPh3HX"
      }
    }
  ]
}